{
 "cells": [
  {
   "cell_type": "markdown",
   "id": "85aaa140-ad19-4f3f-b8cb-ce0815974b2d",
   "metadata": {},
   "source": [
    "# Assembly"
   ]
  },
  {
   "cell_type": "markdown",
   "id": "5616de2f-2b2e-401d-be33-713027709c0f",
   "metadata": {},
   "source": [
    "***"
   ]
  },
  {
   "cell_type": "markdown",
   "id": "ecae0a90-9aa8-47c2-9522-1eada948ec6a",
   "metadata": {},
   "source": [
    "## Intro\n",
    "\n",
    "General processes for assembly from trimmed and filtered Illumina HiSeq data are detailed below. However, some decisions of your own will need to be made along the way depending on your study question and/or time or computational restraints. \n",
    "\n",
    "Assembler\n",
    "\n",
    "- Current leading options include **SPAdes** and **IDBA-UD**\n",
    "- The examples that follow use **metaSPAdes** (i.e. **SPAdes** with the -meta flag enabled). \n",
    "- However, **SPAdes** can have very large computational requirements depending on the dataset. As an example, the Handley group's assemblies from estuary samples required several hundred GB RAM and multiple days of NeSI run time *per sample*. This can be very variable depending on the sample type. If a faster option is required (and one that uses less RAM), **IDBA-UD** is a good alternative.\n",
    "- Note: if running **IDBA-UD**, it requires a single interleaved input file per sample (rather than separate R1 and R2 read files).\n",
    "- From Vollmers *et al*. 2017 (https://doi.org/10.1371/journal.pone.0169662): \n",
    "  - \"*If micro diversity is not a major issue, and the primary research goal is to bin and reconstruct representative bacterial genomes from a given environment*, ***metaSPAdes*** *should clearly be the assembler of choice... If micro diversity is however an issue, or if the degree of captured diversity is far more important than contig lengths, then* ***IDBA-UD*** *or* ***Megahit*** *should be preferred.*\"\n",
    "\n",
    "\n"
   ]
  },
  {
   "cell_type": "markdown",
   "id": "7c866ff5-9df0-4129-8dcc-4f012ec288be",
   "metadata": {},
   "source": [
    "## Assembly via metaSPAdes\n",
    "\n",
    "k-mer settings (`-k` parameter)\n",
    "\n",
    "- Depending on the data (and if you have the time and resources), this is a parameter worth trying alternative settings with. You can run multiple different assemblies changing this setting, and then assess the quality of each assembly and choose the best option for your data set.\n",
    "  - Note: for experimenting with alternative kmer sizes: selected kmers should be odd numbers, should not be *too* short, and also cannot be longer than the read length (after trimming etc.).\n",
    "- Alternatively you can use the auto setting by omitting this parameter altogether (this automatically selects what it deems to be appropriate k-mer settings).\n",
    "  - Note: in our experience, auto setting can require ~ double the RAM usage\n",
    "\n",
    "Single- versus co-assemblies\n",
    "\n",
    "- Depending on your study question and available time and computational resources, you may wish to do single assemblies (i.e. a separate assembly *per sample*), or some variety of co-assemblies (e.g. full co-assembly (all samples together), or mini co-assemblies (e.g. one assembly of samples from group A and a separate assembly of samples from group B)). \n",
    "- Note:\n",
    "  - Individual assemblies per sample may result in better assemblies overall\n",
    "  - Alternatively, co-assemblies may be better as assembling rarer taxa that occur in > 1 sample\n",
    "  - If following up with read mapping (e.g. mapping WTS reads back to assembled WGS contigs), any more than one single co-assembly at this stage will require a subsequent step to dereplicate assembled contigs (or binned genomes) across the multiple assemblies. (n.b. You can also use a combined approach of both individual assemblies and co-assemblies and dereplicate across all assemblies).\n",
    "- For co-assemblies, input files can be concatenated together via `cat`, e.g: \n",
    "  - `cat sample1_R1.fastq.gz sample2_R1.fastq.gz sample3_R1.fastq.gz sample4_R1.fastq.gz > for_assembly_A_R1.fastq.gz`\n",
    "  \n",
    "Runtimes and RAM requirements\n",
    "\n",
    "- Unfortunately this is difficult to predict with new sample types and/or data sets, so you may have to run a few attempts, slowly adding more time or RAM allocated until you find a number that works.\n",
    "\n",
    "*N.b. Examples below based on using auto kmer setting (omitting `-k` option)*"
   ]
  },
  {
   "cell_type": "markdown",
   "id": "b3d95a74-1821-49f9-8249-4d1d820f89dc",
   "metadata": {},
   "source": [
    "## Example: Co-assembly"
   ]
  },
  {
   "cell_type": "markdown",
   "id": "da1a8cc1-4503-4dd2-aaf3-7721714b99b1",
   "metadata": {},
   "source": [
    "Concatenate reads for assembly:"
   ]
  },
  {
   "cell_type": "code",
   "execution_count": null,
   "id": "3d617c90-3145-4b69-a5ba-c17989dc3db9",
   "metadata": {},
   "outputs": [],
   "source": [
    "cd /working/dir\n",
    "\n",
    "mkdir -p 2.assembly/0.spades_coassembly_infiles/\n",
    "\n",
    "cat 1b.QC_Filtered_host/*_R1_hostFilt.fastq > 2.assembly/0.spades_coassembly_infiles/filtered_reads_R1.fastq\n",
    "cat 1b.QC_Filtered_host/*_R2_hostFilt.fastq > 2.assembly/0.spades_coassembly_infiles/filtered_reads_R2.fastq\n",
    "cat 1b.QC_Filtered_host/*_single_hostFilt.fastq > 2.assembly/0.spades_coassembly_infiles/filtered_reads_single.fastq\n"
   ]
  },
  {
   "cell_type": "markdown",
   "id": "9b4830c7-7966-4f77-ba4f-95fcde89d3e5",
   "metadata": {},
   "source": [
    "Run co-assembly\n",
    "\n",
    "*NOTE: when changing the memory allocation, make sure to change it in both the SBATCH header and the actual spades call (the `-m` flag)*"
   ]
  },
  {
   "cell_type": "code",
   "execution_count": null,
   "id": "f6d93650-364a-4b39-b050-a08e7e376fae",
   "metadata": {},
   "outputs": [],
   "source": [
    "#!/bin/bash -e\n",
    "#SBATCH -A your_project_account\n",
    "#SBATCH -J wgs_2.co-assembly_spades\n",
    "#SBATCH --time 12:00:00\n",
    "#SBATCH --mem=80GB\n",
    "#SBATCH --ntasks=1\n",
    "#SBATCH --cpus-per-task=16\n",
    "#SBATCH -e wgs_2.co-assembly_spades.err\n",
    "#SBATCH -o wgs_2.co-assembly_spades.out\n",
    "\n",
    "# Load module(s)\n",
    "module purge\n",
    "module load SPAdes/3.13.1-gimkl-2018b\n",
    "\n",
    "# Change to working directory\n",
    "cd /working/dir\n",
    "\n",
    "# Make output directory \n",
    "mkdir -p 2.assembly/1.spades_assembly_coassembly/\n",
    "\n",
    "# Run rnaSPAdes\n",
    "srun spades.py --meta -t 16 -m 80 \\\n",
    "-1 2.assembly/0.spades_coassembly_infiles/filtered_reads_R1.fastq \\\n",
    "-2 2.assembly/0.spades_coassembly_infiles/filtered_reads_R2.fastq \\\n",
    "-s 2.assembly/0.spades_coassembly_infiles/filtered_reads_single.fastq \\\n",
    "-o 2.assembly/1.spades_assembly_coassembly/\n"
   ]
  },
  {
   "cell_type": "markdown",
   "id": "94778022-7cab-4dd3-9c53-2b8b7b6249be",
   "metadata": {},
   "source": [
    "## Example: Individual assemblies \n",
    "\n",
    "Running individual assemblies as slurm array\n",
    "\n",
    "*NOTE: all slurm array examples in this doc are based on nine samples numbered from 1 to 9. Modify the `#SBATCH --array=` header for the appropriate number of samples in your dataset* \n",
    "\n",
    "*NOTE: when changing the memory allocation, make sure to change it in both the SBATCH header and the actual spades call (the `-m` flag)*"
   ]
  },
  {
   "cell_type": "code",
   "execution_count": null,
   "id": "4f35589b-9cbd-4c48-a214-6eaceb6f9e55",
   "metadata": {},
   "outputs": [],
   "source": [
    "#!/bin/bash -e\n",
    "#SBATCH -A your_project_account\n",
    "#SBATCH -J wgs_2.assembly_spades\n",
    "#SBATCH --time 12:00:00\n",
    "#SBATCH --mem=80GB\n",
    "#SBATCH --array=1-9\n",
    "#SBATCH --ntasks=1\n",
    "#SBATCH --cpus-per-task=16\n",
    "#SBATCH -e wgs_2.assembly_spades_a%.err\n",
    "#SBATCH -o wgs_2.assembly_spades_a%.out\n",
    "\n",
    "# Load module(s)\n",
    "module purge\n",
    "module load SPAdes/3.13.1-gimkl-2018b\n",
    "\n",
    "# Change to working directory\n",
    "cd /working/dir\n",
    "\n",
    "# Make output directory \n",
    "mkdir -p 2.assembly/\n",
    "\n",
    "# Run rnaSPAdes\n",
    "srun spades.py --meta -t 16 -m 80 \\\n",
    "-1 1b.QC_Filtered_host/S${SLURM_ARRAY_TASK_ID}_R1_hostFilt.fastq \\\n",
    "-2 1b.QC_Filtered_host/S${SLURM_ARRAY_TASK_ID}_R2_hostFilt.fastq \\\n",
    "-s 1b.QC_Filtered_host/S${SLURM_ARRAY_TASK_ID}_single_hostFilt.fastq \\\n",
    "-o 2.assembly/1.spades_assembly_S${SLURM_ARRAY_TASK_ID}/\n"
   ]
  },
  {
   "cell_type": "markdown",
   "id": "8790f0a3-2754-4b02-aae4-9cd0bc16a303",
   "metadata": {},
   "source": [
    "## Optional: Filtering out short contigs\n",
    "\n",
    "For downstream processing, it is generally a good idea to filter out short contigs (for example, those less than 1000 or 2000 bp).\n",
    "\n",
    "If you wish to filter out short contigs, you can do so via `seqmagick`:"
   ]
  },
  {
   "cell_type": "code",
   "execution_count": null,
   "id": "ca6b21b4-137d-4cbd-a93d-afee5658c83e",
   "metadata": {},
   "outputs": [],
   "source": [
    "## Filter out contigs < 1000 bp using seqmagick\n",
    "\n",
    "# Set up working directories\n",
    "cd /working/dir\n",
    "\n",
    "# Load seqmagick\n",
    "module purge\n",
    "module load seqmagick/0.7.0-gimkl-2017a-Python-3.6.3\n",
    "\n",
    "# Individual sample assemblies\n",
    "for i in {1..9}; do\n",
    "    seqmagick convert --min-length 1000 2.assembly/1.spades_assembly_S${i}/scaffolds.fasta 2.assembly/1.spades_assembly_S${i}/scaffolds.m1000.fasta\n",
    "done\n",
    "\n",
    "# Co-assembly\n",
    "seqmagick convert --min-length 1000 2.assembly/1.spades_assembly_coassembly/scaffolds.fasta 2.assembly/1.spades_assembly_coassembly/scaffolds.m1000.fasta\n"
   ]
  },
  {
   "cell_type": "markdown",
   "id": "bb2babf4-0fe3-4397-996f-7d88fc3e8f7e",
   "metadata": {},
   "source": [
    "## Assessing assemblies\n",
    "\n",
    "The following are some of the ways in which you can examine how well your data assembly went. This is also useful if you have tested different assembly parameters (e.g. differet k-mer sizes) or different assemblers on a subset of samples and are deciding what parameter settings to use for the proper assemblies.\n",
    "\n",
    "Here we will be looking at:\n",
    "\n",
    "- **counts of contigs** output by each assembly (including the filtered vs. unfiltered assemblies)\n",
    "- **relative length of contigs** output by each assembly via contig N/L50 values (an indication of the relative length of contigs in each of the assemblies). \n",
    "\n",
    "You can use these metrics (among others) to select the assembly parameters (and/or assembler) you wish to proceed with for the actual assemblies of all samples (or co-assembly, or multiple mini co-assemblies, if that is the option you go for). \n",
    "\n",
    "- NOTE: *more* contigs may not neccessarily mean the better assembly. An assembly with fewer contigs but with contigs of greater length on average may be preferred. Ultimately, this is a little bit of a trial and error process, and what entails the \"best\" assembly may depend on both your data and the question you're asking of it downstream.\n"
   ]
  },
  {
   "cell_type": "markdown",
   "id": "61fc63d7-ac89-4723-bda1-79affd2ae0b2",
   "metadata": {},
   "source": [
    "##### Counting the number of contigs in each of the assemblies (including the filtered vs. non-filtered files)"
   ]
  },
  {
   "cell_type": "code",
   "execution_count": null,
   "id": "a092d373-fe21-41aa-99a8-ead6c7ae79a0",
   "metadata": {},
   "outputs": [],
   "source": [
    "cd /working/dir\n",
    "\n",
    "## Individual sample assemblies\n",
    "for i in {1..9}; do\n",
    "    # All contigs\n",
    "    grep -c '>' 2.assembly/1.spades_assembly_S${i}/scaffolds.fasta\n",
    "    # Contigs > 1000 bp\n",
    "    grep -c '>' 2.assembly/1.spades_assembly_S${i}/scaffolds.m1000.fasta\n",
    "done\n",
    "\n",
    "## Co-assembly\n",
    "# All contigs\n",
    "grep -c '>' 2.assembly/1.spades_assembly_coassembly/scaffolds.fasta\n",
    "# Contigs > 1000 bp\n",
    "grep -c '>' 2.assembly/1.spades_assembly_coassembly/scaffolds.m1000.fasta\n"
   ]
  },
  {
   "cell_type": "markdown",
   "id": "c2db18ae-6e6b-4b24-b002-35beef741f00",
   "metadata": {},
   "source": [
    "##### Assembly statistics via BBMap's stats.sh script\n",
    "\n",
    "A key thing to take note of from the output of this script is the `contig N/L50`"
   ]
  },
  {
   "cell_type": "code",
   "execution_count": null,
   "id": "004ab238-5f55-4905-8716-28198453fd52",
   "metadata": {},
   "outputs": [],
   "source": [
    "module purge\n",
    "module load BBMap/38.73-gimkl-2018b\n",
    "\n",
    "cd /working/dir\n",
    "\n",
    "## Run stats.sh\n",
    "\n",
    "# Individual assemblies\n",
    "for i in {1..9}; do\n",
    "    # All contigs\n",
    "    stats.sh in=2.assembly/1.spades_assembly_S${i}/scaffolds.fasta\n",
    "    # Contigs > 1000 bp\n",
    "    stats.sh in=2.assembly/1.spades_assembly_S${i}/scaffolds.m1000.fasta\n",
    "done\n",
    "\n",
    "# Co-assembly\n",
    "stats.sh in=2.assembly/1.spades_assembly_coassembly/scaffolds.fasta\n",
    "stats.sh in=2.assembly/1.spades_assembly_coassembly/scaffolds.m1000.fasta"
   ]
  },
  {
   "cell_type": "markdown",
   "id": "ce845285-d34f-446d-9d38-48974bf4fda9",
   "metadata": {},
   "source": [
    "***"
   ]
  }
 ],
 "metadata": {
  "kernelspec": {
   "display_name": "Python 3 (ipykernel)",
   "language": "python",
   "name": "python3"
  },
  "language_info": {
   "codemirror_mode": {
    "name": "ipython",
    "version": 3
   },
   "file_extension": ".py",
   "mimetype": "text/x-python",
   "name": "python",
   "nbconvert_exporter": "python",
   "pygments_lexer": "ipython3",
   "version": "3.9.12"
  }
 },
 "nbformat": 4,
 "nbformat_minor": 5
}
