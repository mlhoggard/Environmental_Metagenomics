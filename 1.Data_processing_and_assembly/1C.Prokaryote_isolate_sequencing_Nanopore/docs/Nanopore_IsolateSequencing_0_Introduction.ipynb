{
 "cells": [
  {
   "cell_type": "markdown",
   "id": "e271d109-d9ae-4f1e-903f-a0e585f4f365",
   "metadata": {},
   "source": [
    "# Oxford Nanopore data processing: prokaryote isolate sequencing\n",
    "\n"
   ]
  },
  {
   "cell_type": "markdown",
   "id": "6ea5e0f4-b704-4630-9c9d-dac16f20e2f4",
   "metadata": {},
   "source": [
    "***"
   ]
  },
  {
   "cell_type": "markdown",
   "id": "b67eba88-1a4d-4363-b7d1-e17dc2aa87e2",
   "metadata": {},
   "source": [
    "# 0. Introduction\n",
    "\n",
    "These docs were originally generated for the purposes of a study that was investigating virus-host pairings in a bacterial culture collection isolated from estuarine water samples. \n",
    "\n",
    "The processing steps outlined in these docs include: \n",
    "\n",
    "1. data prep and sequence read qc\n",
    "1. assembly and assembly polishing\n",
    "\n",
    "Aditional downstream processing steps are outlined in the following:\n",
    "\n",
    "- `Environmental_Metagenomics/3.Prokaryote_genomics/`: prokaryote genome stats, taxonomy, and gene annotation\n",
    "- `Environmental_Metagenomics/4.Viromics_WGS/`: associated phage identification, gene annotation, and similarity to reference viral genomes.\n",
    "\n",
    "NOTE:\n",
    "\n",
    "- The steps and tools covered represent *one* approach to processing Oxford Nanopore long-read sequencing data for **prokaryote** isolates. At each of the steps, several alternative tools are available and worth considering. The method outlined simply represents the approach we took with this study, and offers an overview of the processing steps required overall.\n",
    "- Sequencing and assembling genomes of **eukaryote** organisms is a considerably more complex task. This is not discussed here, and the process outlined in these docs is likely not sufficient (at best) or may be wholly inappropriate (at worst) for that task.\n",
    "\n",
    "All examples that follow are based on sequencing of **12 isolates**, sequenced in duplicate, multiplexed during ONT library prep (each tagged with a unique barcode). Long-read sequencing data was generated on an Oxford Nanopore GridION, with basecalling based on high accuracy basecalling (HAC; Q9). In this example, basecalling was done in real time during sequencing. However, you can also opt to perform basecalling separately on the raw data after the fact. In our tests, comparable (generally identical) steps were also appropriate for processing data based on super accuracy basecalling model (SUP; Q10). \n",
    "\n",
    "NOTE: \n",
    "\n",
    "- Using HAC data can increase coverage (compared with SUP data), but at the expense of a lower quality threshold for individual reads. Coverage depth can be an important factor in the completeness and accuracy of genome assemblies downstream, and so can be important to consider when choosing between HAC and SUP data.\n"
   ]
  }
 ],
 "metadata": {
  "kernelspec": {
   "display_name": "Python 3 (ipykernel)",
   "language": "python",
   "name": "python3"
  },
  "language_info": {
   "codemirror_mode": {
    "name": "ipython",
    "version": 3
   },
   "file_extension": ".py",
   "mimetype": "text/x-python",
   "name": "python",
   "nbconvert_exporter": "python",
   "pygments_lexer": "ipython3",
   "version": "3.9.12"
  }
 },
 "nbformat": 4,
 "nbformat_minor": 5
}
