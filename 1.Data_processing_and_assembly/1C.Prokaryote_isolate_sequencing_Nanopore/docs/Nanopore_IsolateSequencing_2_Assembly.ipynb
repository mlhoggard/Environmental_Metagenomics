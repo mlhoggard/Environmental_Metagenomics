{
 "cells": [
  {
   "cell_type": "markdown",
   "metadata": {},
   "source": [
    "# Oxford Nanopore data processing: prokaryote isolate sequencing\n"
   ]
  },
  {
   "cell_type": "markdown",
   "metadata": {},
   "source": [
    "***"
   ]
  },
  {
   "cell_type": "markdown",
   "metadata": {},
   "source": [
    "## 2. Assembly\n",
    "\n",
    "#### General notes:\n",
    "\n",
    "The examples below are based on sequencing of **12 isolates**, multiplexed during ONT library prep (each tagged with a unique barcode). Long-read sequencing data was generated on an Oxford Nanopore GridION, with basecalling based on high accuracy basecalling (HAC; Q9). In this example, basecalling was done in real time during sequencing. However, you can also opt to perform basecalling separately on the raw data after the fact. In our tests, comparable (generally identical) steps were also appropriate for processing data based on super accuracy basecalling model (SUP; Q10). \n",
    "\n",
    "Note: \n",
    "\n",
    "- Using HAC data can increase coverage (compared with SUP data), but at the expense of a lower quality threshold for individual reads. Coverage depth can be an important factor in the completeness and accuracy of genome assemblies downstream, and so can be important to consider when choosing between HAC and SUP data.\n"
   ]
  },
  {
   "cell_type": "markdown",
   "metadata": {},
   "source": [
    "## Index\n",
    "\n",
    "- [2.1 Assembly](#2.1-Assembly)\n",
    "- [2.2 Long-read polishing](#2.2-Long-read-polishing)\n",
    "- [2.3 Short-read polishing](#2.3-Short-read-polishing)\n",
    "- [2.4 Assembly files post-processing](#2.4-Assembly-post-processing)\n"
   ]
  },
  {
   "cell_type": "markdown",
   "metadata": {
    "tags": []
   },
   "source": [
    "## 2.1 Assembly\n",
    "\n",
    "There a several options for assemblers for long read data. In this example, we will use *Flye*\n",
    "\n",
    "Useful outputs:\n",
    "\n",
    "- `assembly.fasta`: draft assembly\n",
    "- `tail flye.log`: basic assembly stats\n",
    "- `assembly_info.txt`: more info on each contig in the assembly\n",
    "\n",
    "NOTE:\n",
    "\n",
    "- *Flye* has an option to account for uneven coverage (e.g. metagenomics data or data generated from non-pure isolates): `--meta`. This can optionally be included in case there are more than one organism in what might be presumed to be a pure isolate (or if the originating sample was already known to be mixed (i.e. more than one genome in the sample))\n",
    "- *Flye* has three *nano* options\n",
    "  - `nano_corr`: Assumes data are pre-cleaned via, e.g., illumina reads, prior to assembly\n",
    "  - `nano_raw`: Assumes older poor quality reads, but can also use on HAC data\n",
    "  - `nano_hq`: Good for SUP-called reads, but can also be used for HAC reads\n",
    "    - When working with HAC data, this option *might* return more split contigs. However, preliminary testing in our group did not suggested an appreciable difference between `nano_raw` and `nano_hq` with HAC data. You may wish to try both with your data and assess the assemblies generated.\n"
   ]
  },
  {
   "cell_type": "markdown",
   "metadata": {},
   "source": [
    "#### Run *Flye* assemblies\n",
    "\n",
    "Run *Flye* assemblies for each barcode via slurm array (`#SBATCH --array=1-12`)\n",
    "\n",
    "NOTE:\n",
    "\n",
    "- Running with `--meta` flag and `--nano-hq` setting"
   ]
  },
  {
   "cell_type": "code",
   "execution_count": null,
   "metadata": {},
   "outputs": [],
   "source": [
    "#!/bin/bash\n",
    "#SBATCH -A your_project_account\n",
    "#SBATCH -J 2_assembly\n",
    "#SBATCH --time 00:45:00\n",
    "#SBATCH --array=1-12\n",
    "#SBATCH --ntasks=1\n",
    "#SBATCH --mem 10GB\n",
    "#SBATCH --cpus-per-task=16\n",
    "#SBATCH -e 2_assembly_%a.err\n",
    "#SBATCH -o 2_assembly_%a.out\n",
    "\n",
    "# Working directory\n",
    "cd /working/dir\n",
    "mkdir -p 2.assembly/1.assembly.flye.nano_hq\n",
    "\n",
    "# load module\n",
    "module purge\n",
    "module load Flye/2.9-gimkl-2020a-Python-3.8.2\n",
    "\n",
    "# Run assemblies for each barcode\n",
    "srun flye --meta -t 16 \\\n",
    "--nano-hq 1.ONT_data_HAC_concatenated/1.concat_replicates/isolate_${SLURM_ARRAY_TASK_ID}.fastq.gz \\\n",
    "--o 2.assembly/1.assembly.flye.nano_hq/isolate_${SLURM_ARRAY_TASK_ID}.assembly\n"
   ]
  },
  {
   "cell_type": "markdown",
   "metadata": {},
   "source": [
    "NOTE:\n",
    "\n",
    "- Some assemblies may fail (e.g. where no contigs are assembled).\n",
    "- This may be due to, for example; poor coverage for this isolate; insufficient data (similar to poor coverage); mixed genomes in a single sample that the assembler is struggling to resolve.\n",
    "- Take a note of failed isolateIDs, as this will be useful to know to exclude these isolates downstream.\n"
   ]
  },
  {
   "cell_type": "markdown",
   "metadata": {},
   "source": [
    "#### Generate summary table of assembly_info.txt outputs\n",
    "\n",
    "Merge *Flye* `assembly_info.txt` outputs into one summary table \n",
    "\n",
    "NOTE:\n",
    "\n",
    "- The code below includes a try-execpt clause to allow for cases where assembly failed for some isolates \n",
    "- This will ultimately be put into a script for ease of use. But for now we can use the python code below."
   ]
  },
  {
   "cell_type": "code",
   "execution_count": null,
   "metadata": {},
   "outputs": [],
   "source": [
    "# Working directory\n",
    "cd /working/dir\n",
    "\n",
    "# Load python\n",
    "module purge\n",
    "module load Python/3.8.2-gimkl-2020a\n",
    "python3\n",
    "\n",
    "### Import required libraries\n",
    "import pandas as pd\n",
    "import numpy as np\n",
    "\n",
    "# Compile flye assembly_info results\n",
    "results_list = []\n",
    "for i in range (1,12):\n",
    "    try:\n",
    "        tmp_df = pd.read_csv('2.assembly/1.assembly.flye.nano_hq/isolate_'+str(i)+'.assembly/assembly_info.txt', sep='\\t').rename({'#seq_name': 'contigID'}, axis=1)    \n",
    "    except FileNotFoundError:\n",
    "        continue\n",
    "    tmp_df.index = ['isolate_'+str(i)]*len(tmp_df)\n",
    "    tmp_df = tmp_df.rename_axis('isolateID').reset_index()\n",
    "    results_list.append(tmp_df)\n",
    "\n",
    "# Generate summary table and write out\n",
    "results_df = pd.concat(results_list, axis=0)\n",
    "results_df.to_csv('2.assembly/1.assembly.flye.nano_hq/summary_table_flye_nano_hq_assembly_info.tsv', sep='\\t', index=False)\n",
    "\n",
    "quit()\n"
   ]
  },
  {
   "cell_type": "markdown",
   "metadata": {},
   "source": [
    "## 2.2 Long-read polishing\n"
   ]
  },
  {
   "cell_type": "markdown",
   "metadata": {},
   "source": [
    "Long-read polishing takes the assemblies that were generated above and maps reads to them and checks and revises them. There are several options for this step, such as *racon* and *medaka*. In the example below, we will use *medaka*.\n",
    "\n",
    "*medaka* is Oxford Nanopore's in-house assembly polisher. It takes sequences, assembly files, and the model used for basecalling, and generates polished assembly files.\n",
    "\n",
    "NOTE:\n",
    "\n",
    "- to find model options, run: `medaka tools list_models`, and then select the applicable model for your basecalling on this specific run."
   ]
  },
  {
   "cell_type": "markdown",
   "metadata": {},
   "source": [
    "#### Run *medaka* polishing of *Flye* assembly\n",
    "\n",
    "Run *medaka* polishing and then copy all polished assembly files into one output directory\n",
    "\n",
    "NOTE:\n",
    "\n",
    "- In this example, the applicable model was `r941_min_hac_g507`. Update `-m r941_min_hac_g507` if the basecalling model was different for your run.\n",
    "- If some samples failed the assembly step, you can exclude these from the slurm array in this script, as they will only result in failed runs here.\n",
    "  - e.g. The example below assumes that samples 2 and 7 failed to assemble any contigs."
   ]
  },
  {
   "cell_type": "code",
   "execution_count": null,
   "metadata": {},
   "outputs": [],
   "source": [
    "#!/bin/bash\n",
    "#SBATCH -A your_project_account\n",
    "#SBATCH -J 2_assembly_polish\n",
    "#SBATCH --time 01:00:00\n",
    "#SBATCH --array=1,3-6,8-12\n",
    "#SBATCH --ntasks=1\n",
    "#SBATCH --mem 10GB\n",
    "#SBATCH --cpus-per-task=8\n",
    "#SBATCH -e 2_assembly_polish_%a.err\n",
    "#SBATCH -o 2_assembly_polish_%a.out\n",
    "\n",
    "# Working directory\n",
    "cd /working/dir\n",
    "mkdir -p 2.assembly/2.assembly.flye.nano_hq.LR_polished/polished_assembly_files\n",
    "\n",
    "# load module\n",
    "module purge\n",
    "module load medaka/1.6.0-Miniconda3-4.12.0\n",
    "\n",
    "# Run medaka\n",
    "medaka_consensus \\\n",
    "-m r941_min_hac_g507 \\\n",
    "-i 1.ONT_data_HAC_concatenated/1.concat_replicates/isolate_${SLURM_ARRAY_TASK_ID}.fastq.gz \\\n",
    "-d 2.assembly/1.assembly.flye.nano_hq/isolate_${SLURM_ARRAY_TASK_ID}.assembly/assembly.fasta \\\n",
    "-o 2.assembly/2.assembly.flye.nano_hq.LR_polished/isolate_${SLURM_ARRAY_TASK_ID}.assembly.polished\n",
    "\n",
    "# Copy assembly file to final output directory\n",
    "cp 2.assembly/2.assembly.flye.nano_hq.LR_polished/isolate_${SLURM_ARRAY_TASK_ID}.assembly.polished/consensus.fasta \\\n",
    "2.assembly/2.assembly.flye.nano_hq.LR_polished/polished_assembly_files/isolate_${SLURM_ARRAY_TASK_ID}.consensus.fasta\n"
   ]
  },
  {
   "cell_type": "markdown",
   "metadata": {},
   "source": [
    "#### Evaluating polished assemblies\n",
    "\n",
    "It always pays to assess the quality of final assemblies. There as numerous tools to do this and metrics you can assess. Here we will get basic stats via contig counts, contig lengths, and NL50 stats via `stats.sh` from the *BBMap* suite of tools. We can then use a bash script to generate summary table from BBMap's stats.sh output.\n",
    "\n",
    "NOTE: \n",
    "\n",
    "- The script below runs in a loop over all 12 isolateID numbers, but some isolates may not have files available here if they failed to assemble any contigs in the assembly step (in this example, isolate_2 and isolate_7). We can ignore the following error message: `Exception in thread \"main\" java.lang.RuntimeException: Input file does not appear to be valid` (assuming they match the samples that failed to assemble any contigs in the assembly step above)\n"
   ]
  },
  {
   "cell_type": "code",
   "execution_count": null,
   "metadata": {},
   "outputs": [],
   "source": [
    "# Working directory\n",
    "cd /working/dir\n",
    "mkdir -p 2.assembly/2.assembly.flye.nano_hq.LR_polished/polished_assembly_stats\n",
    "\n",
    "# load module\n",
    "module purge\n",
    "module load BBMap/38.95-gimkl-2020a\n",
    "\n",
    "# Run stats on all isolate assemblies\n",
    "for i in {1..12}; do\n",
    "    stats.sh in=2.assembly/2.assembly.flye.nano_hq.LR_polished/polished_assembly_files/isolate_${i}.consensus.fasta \\\n",
    "    > 2.assembly/2.assembly.flye.nano_hq.LR_polished/polished_assembly_stats/isolate_${i}.stats\n",
    "done\n",
    "\n",
    "# Extract key stats from outputs and compile into single summary table\n",
    "echo -e \"isolateID\\tcontig_count\\tcontig_length_max\\tcontig_length_total\\tcontig_NL50\" \\\n",
    "> 2.assembly/2.assembly.flye.nano_hq.LR_polished/polished_assembly_stats/summary_table_LRpolished_assembly_stats.tsv\n",
    "for i in {1..12}; do\n",
    "    infile=\"1.assembly/2.assembly.flye.nano_hq.LR_polished/polished_assembly_stats/isolate_${i}.stats\"\n",
    "    isolateID=\"isolate_${i}\"\n",
    "    contig_count=$(sed -n -e 's/Main genome contig total:[[:space:]]\\+//p' ${infile})\n",
    "    contig_length_max=$(sed -n -e 's/Max contig length:[[:space:]]\\+//p' ${infile})\n",
    "    contig_length_total=$(sed -n -e 's/Main genome contig sequence total:[[:space:]]\\+\\(.*MB\\).*/\\1/p' ${infile})\n",
    "    contig_NL50=$(sed -n -e 's/Main genome contig N\\/L50:[[:space:]]\\+//p' ${infile})\n",
    "    echo -e \"${isolateID}\\t${contig_count}\\t${contig_length_max}\\t${contig_length_total}\\t${contig_NL50}\" \\\n",
    "    >> 2.assembly/2.assembly.flye.nano_hq.LR_polished/polished_assembly_stats/summary_table_LRpolished_assembly_stats.tsv\n",
    "done\n"
   ]
  },
  {
   "cell_type": "markdown",
   "metadata": {},
   "source": [
    "## 2.3 Short-read polishing\n",
    "\n",
    "Historically, Nanopore long-read sequencing has suffered from high error rates, and methods were developed to polish long-read assemblies via adding high quality short read (such as Illumina HiSeq) data as well. Some assembly algorithms have also been developed that take *both* long read and short read data together when generating assemblies. \n",
    "\n",
    "Recent advances have considerably increased Nanopore basecalling quality, and ensuring a high sequencing coverage across the genome also likely helps mitigate some of the remaining errors. \n",
    "\n",
    "In one small pilot test within our group, *checkM* completeness and contamination stats were comparable between only long-read polished isolate data and both long- and short-read polished data. Although, the quality and consistency at the individual base level was not tested, and how important this is for your study may depend on what you're asking of the data downstream. \n",
    "\n",
    "We will not cover the process of short-read polishing in these docs, but it is worth considering for your data and study question whether you wish to include this step here. Ultimately, if you have high quality short-read data available, or it is easily obtainable, it is likely to be beneficial to incorporate them here. "
   ]
  },
  {
   "cell_type": "markdown",
   "metadata": {},
   "source": [
    "## 2.4 Assembly post-processing\n",
    "\n",
    "#### Add isolateIDs to contig headers\n",
    "\n",
    "It can be useful for downstream applications (particularly where assembled contigs from all sequenced isolates are analysed together) to add isolateIDs into the headers of contigIDs for each isolate assembly.\n",
    "\n",
    "The script below uses *sed* to do this in place on the `polished_assembly_files/`. (If you wish to keep these original files unedited, you can remove the `-i` flag and instead read the result into a new file via `>`)"
   ]
  },
  {
   "cell_type": "code",
   "execution_count": null,
   "metadata": {},
   "outputs": [],
   "source": [
    "cd /working/dir\n",
    "\n",
    "# nano-hq assemblies\n",
    "for i in {1..12}; do\n",
    "    for file in 2.assembly/2.assembly.flye.nano_hq.LR_polished/polished_assembly_files/isolate_${i}.consensus.fasta; do\n",
    "        sed -i -e \"s/>/>isolate_${i}_/g\" ${file}\n",
    "    done\n",
    "done\n"
   ]
  },
  {
   "cell_type": "markdown",
   "metadata": {},
   "source": [
    "#### Generate assembly2contig_lookupTable\n",
    "\n",
    "A lookup table mapping all contig IDs to assembly IDs for all assemblies can be useful in some cases for downstream applications.\n",
    "\n",
    "If this is of use, you can use the python code below to generate `assembly2contig_lookupTable.txt`"
   ]
  },
  {
   "cell_type": "code",
   "execution_count": null,
   "metadata": {},
   "outputs": [],
   "source": [
    "# Working directory\n",
    "cd /working/dir\n",
    "\n",
    "# Load python\n",
    "module purge\n",
    "module load Python/3.8.2-gimkl-2020a\n",
    "python3\n",
    "\n",
    "### Import required libraries\n",
    "import pandas as pd\n",
    "import numpy as np\n",
    "from Bio.SeqIO.FastaIO import SimpleFastaParser\n",
    "import re\n",
    "import os\n",
    "\n",
    "# Compile genome2contig lookup tables\n",
    "with open('2.assembly/2.assembly.flye.nano_hq.LR_polished/assembly2contig_lookupTable.tsv', 'w') as write_file:\n",
    "    # header\n",
    "    write_file.write('assemblyID\\tcontigID\\n')\n",
    "    # Prok bins\n",
    "    assemblyfiles_directory = os.fsencode('2.assembly/2.assembly.flye.nano_hq.LR_polished/polished_assembly_files')\n",
    "    for file in os.listdir(assemblyfiles_directory):\n",
    "        filename = os.fsdecode(file)\n",
    "        assemblyID = os.path.splitext(filename)[0]\n",
    "        with open('2.assembly/2.assembly.flye.nano_hq.LR_polished/polished_assembly_files/' + filename, 'r') as read_fasta:\n",
    "            for name, seq in SimpleFastaParser(read_fasta):\n",
    "                write_file.write(assemblyID + '\\t' + name + '\\n')\n",
    "\n",
    "quit()\n",
    "\n"
   ]
  },
  {
   "cell_type": "markdown",
   "metadata": {},
   "source": [
    "***"
   ]
  }
 ],
 "metadata": {
  "kernelspec": {
   "display_name": "Python 3 (ipykernel)",
   "language": "python",
   "name": "python3"
  },
  "language_info": {
   "codemirror_mode": {
    "name": "ipython",
    "version": 3
   },
   "file_extension": ".py",
   "mimetype": "text/x-python",
   "name": "python",
   "nbconvert_exporter": "python",
   "pygments_lexer": "ipython3",
   "version": "3.9.12"
  }
 },
 "nbformat": 4,
 "nbformat_minor": 4
}
