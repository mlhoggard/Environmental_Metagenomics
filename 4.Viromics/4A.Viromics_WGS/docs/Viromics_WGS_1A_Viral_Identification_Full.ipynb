{
 "cells": [
  {
   "cell_type": "markdown",
   "id": "11ab4c97-01f6-4f38-865e-8fa42ba5e76f",
   "metadata": {
    "tags": []
   },
   "source": [
    "# 1A. Viral Identification\n",
    "\n",
    "### Full method: *VirSorter2*, *VIBRANT*, and/or *DeepVirFinder*"
   ]
  },
  {
   "cell_type": "markdown",
   "id": "f007a119-96c9-4f96-ba35-316fe6ec2b18",
   "metadata": {},
   "source": [
    "***"
   ]
  },
  {
   "cell_type": "markdown",
   "id": "ae4522b1-8522-4a18-bc22-6e8c443d5ef5",
   "metadata": {},
   "source": [
    "## NOTE: \n",
    "\n",
    "All examples are based on multiple individual assemblies (in this case, nine sets of data assembled separately, labelled S1-S9 (originating from nine separate samples)). Scipts are based on loops and arrays to accomodate all nine data sets, based on the labelling schema S1-S9.\n",
    "\n",
    "\n",
    "If you *only* have a single co-assembly, then modify appropriately to only run on that one data set.\n",
    "\n",
    "\n",
    "If you have *both* individual assemblies and a co-assembly (and/or mini-co-assemblies) then modify the scripts appropriately to run on all data sets (you can treat the co-assembly as simply an additional assembly data set; so in this case, if you had nine sample assemblies and one co-assembly, you can run these as if you had 10 individual assemblies)."
   ]
  },
  {
   "cell_type": "markdown",
   "id": "f6e66b86-311c-4b32-be5b-713aa1fe9f91",
   "metadata": {},
   "source": [
    "***"
   ]
  },
  {
   "cell_type": "markdown",
   "id": "58612c09-e79b-4fce-b7d4-fdf34db81229",
   "metadata": {},
   "source": [
    "## Index\n",
    "\n",
    "- [1A.1 Introduction](#1A.1-Introduction)\n",
    "- [1A.2 Prepare assembly files](#1A.2-Prepare-assembly-files)\n",
    "- 1A.3 Identifying Viral Contigs\n",
    "  - [1A.3.1 VirSorter2](#1A.3.1-Identifying-viral-contigs:-VirSorter2)\n",
    "  - [1A.3.2 VIBRANT](#1A.3.2-Identifying-viral-contigs:-VIBRANT)\n",
    "  - [1A.3.2 DeepVirFinder](#1A.3.3-Identifying-viral-contigs:-DeepVirFinder)\n",
    "- [1A.4 Summary tables for each assembly](#1A.4-Summary-tables-for-each-assembly)\n",
    "- [1A.5 Viral contigs: per sample dereplication](#1A.5-Viral-contigs:-per-sample-dereplication)\n",
    "- [1A.6 Viral contigs: Per sample QC and filtering](#1A.6-Per-sample-quality-assessment-and-additional-filtering)\n",
    "- [1A.7 Viral contigs: Multiple assembly dereplication](#1A.7-Dereplication-across-samples)\n",
    "- [1A.8 vOTUs: QC and filtering](#1A.8-vOTUs-assessment-and-additional-filtering)\n",
    "- [1A.9 Final dereplicated vOTUs](#1A.9-Final-set-of-dereplicated-viral-contigs)\n",
    "- [1A.10 Additional Resources](#1A.10-Additional-Resources)"
   ]
  },
  {
   "cell_type": "markdown",
   "id": "7c483023-4769-483e-830f-49eed077ee01",
   "metadata": {},
   "source": [
    "***"
   ]
  },
  {
   "cell_type": "markdown",
   "id": "88e69fd5-bacd-4ce8-802e-78c67d4c4bad",
   "metadata": {},
   "source": [
    "## 1A.1 Introduction\n",
    "\n",
    "Viral metagenomics is a rapidly progressing field, and new software are constantly being developed and released each year that aim to better identify and characterise viral genomic sequences from assembled metagenomic sequence reads.\n",
    "\n",
    "Currently, the most commonly used methods are *VirSorter2*, *VIBRANT*, and *VirFinder* (or the machine learning implementation of this, *DeepVirFinder*). Each tool has strengths and weaknesses. And given this is an evolving field, none are perfect. A number of recent studies use either one of these tools, or a combination of several at once.\n",
    "\n",
    "**The examples below use a combination of three tools: *VirSorter2*, *VIBRANT*, and/or *DeepVirFinder***\n",
    "\n",
    "For a simplified method that only uses *VirSorter2*, see the alternative document, **Viromics_WGS_3B_Viral_Identification_Simplified**\n",
    "\n",
    "##### *VirSorter2*\n",
    "\n",
    "- *VirSorter2* uses a predicted protein homology reference database-based approach, together with searching for a number of pre-defined metrics based on known viral genomic features. *VirSorter2* has been designed to target dsDNAphage, ssDNA and RNA viruses, and the viral groups *Nucleocytoviricota* and *lavidaviridae*.\n",
    "- paper: https://peerj.com/articles/985/\n",
    "- github: https://github.com/jiarong/VirSorter2\n",
    "\n",
    "##### *VIBRANT*\n",
    "\n",
    "- *VIBRANT* uses a machine learning approach based on protein similarity (non-reference-based similarity searches with multiple HMM sets), and is in principle applicable to bacterial and archaeal DNA and RNA viruses, integrated proviruses (which are excised from contigs by *VIBRANT*), and eukaryotic viruses.\n",
    "- paper: https://microbiomejournal.biomedcentral.com/articles/10.1186/s40168-020-00867-0\n",
    "- github: https://github.com/AnantharamanLab/VIBRANT\n",
    "\n",
    "##### *DeepVirFinder*\n",
    "\n",
    "- *DeepVirFinder* uses a machine learning based approach based on k-mer frequencies. Having developed a database of the differences in k-mer frequencies between prokaryote and viral genomes, *VirFinder* examines assembled contigs and identifies whether their k-mer frequencies are comparable to known viruses in the database, using this to predict viral genomic sequence.\n",
    "- This method has some limitations based on the viruses that were included when building the database (bacterial DNA viruses, but very few archaeal viruses, and, at least in some versions of the software, no eukaryotic viruses). However, tools are also provided to build your own database should you wish to develop an expanded one. \n",
    "- Due to its distinctive k-mer frequency-based approach, *VirFinder* may also have the capability of identifying some novel viruses overlooked by tools such as *VIBRANT* or *VirSorter*. However, it will also likely have many more false-positives, and so requires more careful curation. \n",
    "- *DeepVirFinder* also appears to no longer be in development or support, so may be outdated compared to, for example, *VirSorter2*.\n",
    "- Original VirFinder paper: https://microbiomejournal.biomedcentral.com/articles/10.1186/s40168-017-0283-5\n",
    "- github: https://github.com/jessieren/DeepVirFinder\n",
    "\n",
    "**At the time of writing, if you were to pick one tool, we would recommend *VirSorter2***, as this appears to have the most recent ongoing development work and also ties in nicely with *DRAM-v* (for viral annotation).\n",
    "\n",
    "NOTE: \n",
    "\n",
    "- If you apply more than one tool at this step, dereplication *across the multiple tools* will be necessary first, before proceeding to dereplication *across assemblies* \n",
    "- In the example below, the former (across all tools for *each* assembly) is acheived via `summarise_viral_contigs.py` and `virome_per_sample_derep.py`, and the latter (across all assemblies) via `Cluster_genomes_5.1.pl`.\n"
   ]
  },
  {
   "cell_type": "markdown",
   "id": "42c2f1c1-e258-48f8-8442-b689ffc2b452",
   "metadata": {},
   "source": [
    "***"
   ]
  },
  {
   "cell_type": "markdown",
   "id": "de47e073-d6c3-4d32-9482-3567f0aff2a7",
   "metadata": {},
   "source": [
    "## 1A.2 Prepare assembly files\n"
   ]
  },
  {
   "cell_type": "markdown",
   "id": "f2b69985-5a45-4f21-a5af-16d349292231",
   "metadata": {},
   "source": [
    "#### Optional: Add assembly ID to contig headers\n",
    "\n",
    "If you now have data from multiple assemblies, it can be useful to add the assembly ID to contig headers to avoid conflicts downstream (on very rare occasions, contigs from different assemblies can end up with identical contig headers), and to make it easier to spot where contigs of interest originated from after dereplication. "
   ]
  },
  {
   "cell_type": "code",
   "execution_count": null,
   "id": "1219e43d-882d-4c6e-9c2a-cee396d1cd29",
   "metadata": {},
   "outputs": [],
   "source": [
    "cd /working/dir\n",
    "mkdir -p /path/to/wgs/assembly/2.spades_assembly_edit\n",
    "\n",
    "# Individual sample assemblies\n",
    "for i in {1..9}; do\n",
    "    sed \"s/>/>S${i}_/g\" /path/to/wgs/assembly/1.spades_assembly_S${i}/scaffolds.fasta > /path/to/wgs/assembly/2.spades_assembly_edit/S${i}.assembly.fasta\n",
    "done \n"
   ]
  },
  {
   "cell_type": "markdown",
   "id": "b9d18314-92ea-464e-9e09-2717b6cc1244",
   "metadata": {},
   "source": [
    "#### Filter out short contigs\n",
    "\n",
    "For downstream processing, it can be a good idea to filter out short contigs (for example, those less than 1000 or 2000 bp). *VIBRANT*, for example, recommends removing contigs < 1000 bp, as it then filters based on presence of 4 identified putative genes, rather than contig length. \n",
    "\n",
    "If you wish to filter out short contigs, you can do so via `seqmagick`:"
   ]
  },
  {
   "cell_type": "code",
   "execution_count": null,
   "id": "2ea569ca-3f05-451d-853b-424c703fa1a5",
   "metadata": {},
   "outputs": [],
   "source": [
    "# Set up working directories\n",
    "cd /working/dir\n",
    "mkdir -p /path/to/wgs/assembly/2.spades_assembly_edit_m1000\n",
    "\n",
    "# Load seqmagick\n",
    "module purge\n",
    "module load seqmagick/0.7.0-gimkl-2017a-Python-3.6.3\n",
    "\n",
    "## Filter out contigs < 1000 bp using seqmagick\n",
    "for i in {1..9}; do\n",
    "    seqmagick convert --min-length 1000 /path/to/wgs/assembly/2.spades_assembly_edit/S${i}.assembly.fasta /path/to/wgs/assembly/2.spades_assembly_edit_m1000/S${i}.assembly.m1000.fasta\n",
    "done\n"
   ]
  },
  {
   "cell_type": "markdown",
   "id": "56dbd1e4-4a9e-455e-9b57-8e0d8d642884",
   "metadata": {},
   "source": [
    "***"
   ]
  },
  {
   "cell_type": "markdown",
   "id": "86c24ab5-db0a-402d-9337-ad29653ee98a",
   "metadata": {
    "tags": []
   },
   "source": [
    "## 1A.3.1 Identifying viral contigs: VirSorter2"
   ]
  },
  {
   "cell_type": "markdown",
   "id": "8550e3ed-b4b9-46ee-97e5-550a3807b28d",
   "metadata": {},
   "source": [
    "In the steps below, we first run VirSorter2 with a min score threshold setting of 0.75. A python script is provided to then filter these results to only retain contigs with a score > 0.9 *or* if they have a viral hallmark gene identified. There are no set rules on how best to set filter thresholds here, but the latter roughly follow the screening thresholds discussed in the VirSorter2 protocols page here: https://www.protocols.io/view/viral-sequence-identification-sop-with-virsorter2-5qpvoyqebg4o/v3\n",
    "\n",
    "NOTE: \n",
    "\n",
    "- **Due to an issue with the current install in NeSI, `module unload XALT` *must* be run before loading the VirSorter module!**\n",
    "- While *VirSorter2* is available as a NeSI module, the reference databases must be downloaded separately (~10 GB).\n",
    "- In the current version (2.2.3) `--include_groups ...` must be included with all available groups listed. I believe in later versions an include all option will be added to replace this.\n",
    "- The last line (`--config  LOCAL_SCRATCH=${TMPDIR:-/tmp}`) is something that's recommended to include when running on NeSI (to do with how it handles some of the temp files for the HMM profiles). "
   ]
  },
  {
   "cell_type": "markdown",
   "id": "b0dd73d4-05d3-4e63-96c7-13956de124f7",
   "metadata": {},
   "source": [
    "If you don't already have the databases available, download these via `virsorter setup`"
   ]
  },
  {
   "cell_type": "code",
   "execution_count": null,
   "id": "b9c3bf0a-a7b4-4821-969f-246892928e96",
   "metadata": {},
   "outputs": [],
   "source": [
    "# Set up database directory (you may want to name the database directory with the date downloaded)\n",
    "cd /path/to/Databases/\n",
    "mkdir -p virsorter2_database\n",
    "\n",
    "# Load module\n",
    "module purge\n",
    "module unload XALT\n",
    "module load VirSorter/2.2.3-gimkl-2020a-Python-3.8.2\n",
    "\n",
    "# Download databases\n",
    "virsorter setup -d virsorter2_database"
   ]
  },
  {
   "cell_type": "markdown",
   "id": "96601ecc-fd49-4f48-a573-7290f8329ef9",
   "metadata": {},
   "source": [
    "Run *VirSorter2* on each assembly file\n"
   ]
  },
  {
   "cell_type": "code",
   "execution_count": null,
   "id": "ef8a09e7-a73e-4ea7-916c-95f41e2754ed",
   "metadata": {},
   "outputs": [],
   "source": [
    "#!/bin/bash -e\n",
    "#SBATCH -A your_project_account\n",
    "#SBATCH -J 3_vsort2\n",
    "#SBATCH --time 12:00:00\n",
    "#SBATCH --mem=20GB\n",
    "#SBATCH --array=1-9\n",
    "#SBATCH --ntasks=1\n",
    "#SBATCH --cpus-per-task=32\n",
    "#SBATCH -e 3_vsort2_%a.err\n",
    "#SBATCH -o 3_vsort2_%a.out\n",
    "\n",
    "# Load module\n",
    "module purge\n",
    "module unload XALT\n",
    "module load VirSorter/2.2.3-gimkl-2020a-Python-3.8.2\n",
    "\n",
    "# Set up working directories\n",
    "cd /working/dir\n",
    "mkdir -p 1.viral_identification/1.virsorter2\n",
    " \n",
    "## run virsorter2\n",
    "srun virsorter run -j 32 \\\n",
    "-i /path/to/wgs/assembly/2.spades_assembly_edit_m1000/S${SLURM_ARRAY_TASK_ID}.assembly.m1000.fasta \\\n",
    "-d /nesi/project/uoa02469/Databases/virsorter2_20210909/ \\\n",
    "--min-score 0.75 --include-groups dsDNAphage,NCLDV,RNA,ssDNA,lavidaviridae \\\n",
    "-w 1.viral_identification/1.virsorter2/S${SLURM_ARRAY_TASK_ID} -l S${SLURM_ARRAY_TASK_ID} \\\n",
    "--rm-tmpdir \\\n",
    "all \\\n",
    "--config LOCAL_SCRATCH=${TMPDIR:-/tmp}\n"
   ]
  },
  {
   "cell_type": "markdown",
   "id": "42886dec-6abf-4c7c-b05f-6db5efcc5f57",
   "metadata": {},
   "source": [
    "Filter *VirSorter2* results to only retain contigs with a score > 0.9 *or* if they have a viral hallmark gene identified"
   ]
  },
  {
   "cell_type": "code",
   "execution_count": null,
   "id": "52a970f2-12c0-4f79-9079-2589e2da4c8e",
   "metadata": {},
   "outputs": [],
   "source": [
    "cd /working/dir\n",
    "\n",
    "# Load python3\n",
    "module purge\n",
    "module load Python/3.8.2-gimkl-2020a\n",
    "python3\n",
    "import pandas as pd\n",
    "import numpy as np\n",
    "\n",
    "## Filter results (score >= 0.9 OR hallmark > 0)\n",
    "# Loop through all samples, and output new 'SampleX-final-viral-score_filt_0.9.tsv' file for each.\n",
    "for number in range(1, 10):\n",
    "    # Load ...final-viral-score.tsv file\n",
    "    vsort_score = pd.read_csv('1.viral_identification/1.virsorter2/S'+str(number)+'/S'+str(number)+'-final-viral-score.tsv', sep='\\t')\n",
    "    # Filter by score threshold and/or hallmark gene (e.g. score >= 0.9 OR hallmark > 0)\n",
    "    vsort_score = vsort_score[np.logical_or.reduce((vsort_score['max_score'] >= 0.9, vsort_score['hallmark'] > 0))]\n",
    "    # Write out filtered file\n",
    "    vsort_score.to_csv('1.viral_identification/1.virsorter2/S'+str(number)+'/S'+str(number)+'-final-viral-score_filt_0.9.tsv', sep='\\t', index=False)\n",
    "\n",
    "quit()\n"
   ]
  },
  {
   "cell_type": "markdown",
   "id": "4cd36b7a-efbc-48ee-bf16-e496cb46af27",
   "metadata": {},
   "source": [
    "***"
   ]
  },
  {
   "cell_type": "markdown",
   "id": "dca03a26-2c12-4470-bccd-c5723f47f4ae",
   "metadata": {
    "tags": []
   },
   "source": [
    "## 1A.3.2 Identifying viral contigs: VIBRANT"
   ]
  },
  {
   "cell_type": "markdown",
   "id": "fe818122-0a58-48f0-98d8-e2870d2a3fa1",
   "metadata": {},
   "source": [
    "Run *VIBRANT*"
   ]
  },
  {
   "cell_type": "code",
   "execution_count": null,
   "id": "6e90ed0e-ad14-4e0f-a0c3-8cf14ec5828e",
   "metadata": {},
   "outputs": [],
   "source": [
    "#!/bin/bash -e\n",
    "#SBATCH -A your_project_account\n",
    "#SBATCH -J 3_vibrant\n",
    "#SBATCH --time 12:00:00\n",
    "#SBATCH --mem=20GB\n",
    "#SBATCH --ntasks=1\n",
    "#SBATCH --array=1-9\n",
    "#SBATCH --cpus-per-task=16\n",
    "#SBATCH -e 3_vibrant_%a.err\n",
    "#SBATCH -o 3_vibrant_%a.out\n",
    "#SBATCH --profile=task\n",
    "\n",
    "# Load dependencies\n",
    "module purge\n",
    "module load VIBRANT/1.2.1-gimkl-2020a\n",
    "\n",
    "# Set up working directories\n",
    "cd /nesi/nobackup/ga02676/2022_Hotsprings_virome_MH/wgs\n",
    "mkdir -p 1.viral_identification/1.vibrant\n",
    "\n",
    "# Run main analyses \n",
    "srun VIBRANT_run.py -t 16 \\\n",
    "-i /path/to/wgs/assembly/2.spades_assembly_edit_m1000/S${SLURM_ARRAY_TASK_ID}.assembly.m1000.fasta \\\n",
    "-d $DB_PATH \\\n",
    "-folder 1.viral_identification/1.vibrant/\n"
   ]
  },
  {
   "cell_type": "markdown",
   "id": "a7968530-217d-469e-9522-c8fefe0f3721",
   "metadata": {},
   "source": [
    "***"
   ]
  },
  {
   "cell_type": "markdown",
   "id": "d3c8baa0-82d1-4533-93b9-662c76166ee2",
   "metadata": {
    "tags": []
   },
   "source": [
    "## 1A.3.3 Identifying viral contigs: DeepVirFinder\n",
    "\n",
    "Note:\n",
    "\n",
    "- *DeepVirFinder* is not available as a NeSI module, and must be installed separately (modify the *DeepVirFinder* path in the script below\n",
    "- The *DeepVirFinder* github also recommends calculately FDR values from the *DeepVirFinder* output to then filter by. This can be done via the script `dvfind_add_fdr.R` (using the R package *qvalue*), which is available in `...../scripts/`\n",
    "  - This script by default also filters to retain only results meeting the following thresholds: score >= 0.9 & pvalue <= 0.05 & p.adj <= 0.1\n",
    "- *DeepVirFinder* runs the risk of identifying eukaryotic sequences as putative viral sequences (due to kmer profiling model training being done on bacterial (and maybe archeael?) vs. viral sequences in databases). \n",
    "  - It is important to include a filter step on *DeepVirFinder* outputs to remove any contigs that match eukaryotc sequences.\n",
    "  - Below, Eukaryotic contigs are identified via *Kraken2* and then filtered out of the *DeepVirFinder* results\n",
    "  - The required scripts (*except* `extract_kraken_reads.py`) are available in `...../scripts/`\n",
    "  - The script `extract_kraken_reads.py` comes from KrakenTools, and is available from https://github.com/jenniferlu717/KrakenTools"
   ]
  },
  {
   "cell_type": "markdown",
   "id": "bf4ab814-b251-4bfd-ad80-eeb15927811c",
   "metadata": {},
   "source": [
    "If required: Install *DeepVirFinder* and dependencies (python packages theano and keras, and R package qvalue)"
   ]
  },
  {
   "cell_type": "code",
   "execution_count": null,
   "id": "78f4b15d-bf88-4211-b1d4-fb5bc85ac3c4",
   "metadata": {},
   "outputs": [],
   "source": [
    "## Installing DeepVirFinder\n",
    "cd /path/to/Software/\n",
    "\n",
    "# Clone git and add permissions\n",
    "git clone https://github.com/jessieren/DeepVirFinder\n",
    "chmod -R 777 DeepVirFinder\n",
    "\n",
    "# Load python and R\n",
    "module purge\n",
    "module load Python/3.8.2-gimkl-2020a\n",
    "module load R/3.6.2-gimkl-2020a\n",
    "\n",
    "# Requires additional of python packages theano and keras (installs some into usr/.local/bin, so this also needs to be added to PATH when running DeepVirFinder). \n",
    "pip install theano keras\n",
    "\n",
    "# Set up to use with R package \"qvalue\" to calculate FDR q-values. Need to install this locally (not installed on R module)\n",
    "R --vanilla\n",
    "if (!requireNamespace(\"BiocManager\", quietly = TRUE))\n",
    "    install.packages(\"BiocManager\")\n",
    "BiocManager::install(\"qvalue\")\n",
    "q()\n"
   ]
  },
  {
   "cell_type": "markdown",
   "id": "f0510202-bcf8-4fa1-9d1e-985d4f92b57c",
   "metadata": {},
   "source": [
    "Run *DeepVirFinder*"
   ]
  },
  {
   "cell_type": "code",
   "execution_count": null,
   "id": "be5980ef-bc20-4496-8a6f-3f80dd589f91",
   "metadata": {},
   "outputs": [],
   "source": [
    "#!/bin/bash -e\n",
    "#SBATCH -A your_project_account\n",
    "#SBATCH -J 3_dvf\n",
    "#SBATCH --time 08:00:00\n",
    "#SBATCH --mem=20GB\n",
    "#SBATCH --array=1-9\n",
    "#SBATCH --ntasks=1\n",
    "#SBATCH --cpus-per-task=20\n",
    "#SBATCH -e 3_dvf_%a.err\n",
    "#SBATCH -o 3_dvf_%a.out\n",
    "\n",
    "# Update this path to your own local bin path (due to additional python packages required (theano and keras)\n",
    "export PATH=\"/home/<your_home_directory>/.local/bin:$PATH\"\n",
    "# Variables for DeepVirFinder and required scripts directories \n",
    "DeepVirFinder_PATH=\"/path/to/Software/DeepVirFinder:$PATH\"\n",
    "SCRIPTS_PATH=\"/path/to/scripts:$PATH\"\n",
    "\n",
    "# Set up working directories\n",
    "cd /working/dir\n",
    "\n",
    "# Load modules\n",
    "module purge\n",
    "module load Python/3.8.2-gimkl-2020a\n",
    "module load R/3.6.2-gimkl-2020a\n",
    "\n",
    "# After an issue with previous DeepVirFinder run, I found a fix online that suggested running this first:\n",
    "export MKL_THREADING_LAYER=GNU\n",
    "\n",
    "# run DeepVirFinder\n",
    "mkdir -p 1.viral_identification/1.deepvirfinder/\n",
    "srun ${DeepVirFinder_PATH}/dvf.py \\\n",
    "-i /path/to/wgs/assembly/2.spades_assembly_edit_m1000/S${SLURM_ARRAY_TASK_ID}.assembly.m1000.fasta \\\n",
    "-m ${DeepVirFinder_PATH}/models \\\n",
    "-o 1.viral_identification/1.deepvirfinder/ \\\n",
    "-l 1000 \\\n",
    "-c 20\n",
    "\n",
    "# Calculate fdr q values\n",
    "srun ${SCRIPTS_PATH}/dvfind_add_fdr.R \"1.viral_identification/1.deepvirfinder/S${SLURM_ARRAY_TASK_ID}.assembly.m1000.fasta_gt1000bp_dvfpred.txt\"\n"
   ]
  },
  {
   "cell_type": "markdown",
   "id": "11392dcf-2b0b-49f9-9d35-92cdbc56a175",
   "metadata": {},
   "source": [
    "Filter *DeepVirFinder* results to remove eukaryotic contigs\n",
    "\n",
    "Method: \n",
    "\n",
    "1. Extract sequences for contigs identified as putatively 'viral' by DeepVirFinder (`dvfpred_extract_fasta.py`)\n",
    "1. Assign taxonomy via Kraken2\n",
    "1. Extract sequences matching Eukaryota (`extract_kraken_reads.py`, from KrakenTools)\n",
    "1. Filter Eukaryota sequences out of DeepVirFinder results (`dvfpred_filter_euk.py`)\n"
   ]
  },
  {
   "cell_type": "code",
   "execution_count": null,
   "id": "b90e4e02-a307-4bda-960f-1b3c40e42c88",
   "metadata": {},
   "outputs": [],
   "source": [
    "#!/bin/bash -e\n",
    "#SBATCH -A your_project_account\n",
    "#SBATCH -J 3_dvf_filter\n",
    "#SBATCH --time 00:10:00\n",
    "#SBATCH --mem=180GB\n",
    "#SBATCH --array=1-9\n",
    "#SBATCH --ntasks=1\n",
    "#SBATCH --cpus-per-task=20\n",
    "#SBATCH -e 3_dvf_filter_%a.err\n",
    "#SBATCH -o 3_dvf_filter_%a.out\n",
    "\n",
    "# Update this path to your own local bin path\n",
    "export PATH=\"/home/<your_home_directory>/.local/bin:$PATH\"\n",
    "# Add required custom scripts to PATH\n",
    "export PATH=\"/path/to/scripts:$PATH\"\n",
    "\n",
    "# Set up working directory\n",
    "cd /working/dir\n",
    "\n",
    "# Load modules\n",
    "module purge\n",
    "module load Python/3.8.2-gimkl-2020a\n",
    "module load R/3.6.2-gimkl-2020a\n",
    "module load Kraken2/2.1.2-GCC-9.2.0\n",
    "\n",
    "## Run filtering steps\n",
    "# Run dvfpred_extract_fasta.py\n",
    "dvfpred_extract_fasta.py \\\n",
    "    --deepvirfinder_results 1.viral_identification/1.deepvirfinder/S${SLURM_ARRAY_TASK_ID}.assembly.m1000.fasta_gt1000bp_dvfpred.txt \\\n",
    "    --assembly_fasta /path/to/wgs/assembly/2.spades_assembly_edit_m1000/S${SLURM_ARRAY_TASK_ID}.assembly.m1000.fasta \\\n",
    "    --output 1.viral_identification/1.deepvirfinder/S${SLURM_ARRAY_TASK_ID}_dvfpred.fna \\\n",
    "# Run Kraken2 taxonomy classification of dvfpred results\n",
    "mkdir -p 1.viral_identification/1.deepvirfinder/dvfpred_kraken\n",
    "srun kraken2 \\\n",
    "    --threads 20 \\\n",
    "    --db nt \\\n",
    "    --use-names \\\n",
    "    --report 1.viral_identification/1.deepvirfinder/dvfpred_kraken/S${SLURM_ARRAY_TASK_ID}.kraken_report.txt \\\n",
    "    --output 1.viral_identification/1.deepvirfinder/dvfpred_kraken/S${SLURM_ARRAY_TASK_ID}.kraken_output.txt \\\n",
    "    1.viral_identification/1.deepvirfinder/S${SLURM_ARRAY_TASK_ID}_dvfpred.fna\n",
    "# Run extract_kraken_reads.py (n.b. -t 2759 = Eukaryota)\n",
    "extract_kraken_reads.py \\\n",
    "    -k 1.viral_identification/1.deepvirfinder/dvfpred_kraken/S${SLURM_ARRAY_TASK_ID}.kraken_output.txt \\\n",
    "    -r 1.viral_identification/1.deepvirfinder/dvfpred_kraken/S${SLURM_ARRAY_TASK_ID}.kraken_report.txt \\\n",
    "    -s 1.viral_identification/1.deepvirfinder/S${SLURM_ARRAY_TASK_ID}_dvfpred.fna \\\n",
    "    -t 2759 --include-children \\\n",
    "    -o 1.viral_identification/1.deepvirfinder/dvfpred_kraken/S${SLURM_ARRAY_TASK_ID}.kraken_Euk.fna\n",
    "# Run dvfpred_filter_euk.py\n",
    "dvfpred_filter_euk.py \\\n",
    "    --deepvirfinder_results 1.viral_identification/1.deepvirfinder/S${SLURM_ARRAY_TASK_ID}.assembly.m1000.fasta_gt1000bp_dvfpred.txt \\\n",
    "    --Euk_fasta 1.viral_identification/1.deepvirfinder/dvfpred_kraken/S${SLURM_ARRAY_TASK_ID}.kraken_Euk.fna \\\n",
    "    --output 1.viral_identification/1.deepvirfinder/S${SLURM_ARRAY_TASK_ID}.dvfpred_filtered.txt\n",
    "\n"
   ]
  },
  {
   "cell_type": "markdown",
   "id": "519dada1-2cfb-4ffc-baba-0c3e4a6bcf42",
   "metadata": {},
   "source": [
    "Note:\n",
    "\n",
    "In the event that samples fail these filtering steps, this may be due to no \"viral\" contigs being identified by *DeepVirFinder* for this assembly file. \n",
    "\n",
    "In these cases, to enable downstream steps to run smoothly, simply copy (the empty file) `S*.assembly.m1000.fasta_gt1000bp_dvfpred.txt` to `S*.dvfpred_filtered.txt` (replace the `*` with the appropirate sample number)\n",
    "\n",
    "For example, assuming samples 3 and 7 failed:"
   ]
  },
  {
   "cell_type": "code",
   "execution_count": null,
   "id": "fac26829-f3e0-4c51-815b-139faa03010a",
   "metadata": {},
   "outputs": [],
   "source": [
    "cd /working/fir\n",
    "\n",
    "for i in 3 7; do\n",
    "    cp 1.viral_identification/1.deepvirfinder/S${i}.assembly.m1000.fasta_gt1000bp_dvfpred.txt 1.viral_identification/1.deepvirfinder/S${i}.dvfpred_filtered.txt\n",
    "done"
   ]
  },
  {
   "cell_type": "markdown",
   "id": "690c100e-93db-41fc-aa36-6d74a9e8d98b",
   "metadata": {},
   "source": [
    "***"
   ]
  },
  {
   "cell_type": "markdown",
   "id": "e6fb9103-aa77-41a8-b189-6ad8b85681bd",
   "metadata": {},
   "source": [
    "## 1A.4 Summary tables for each assembly\n",
    "\n",
    "Generate summary tables all contigs putatively identified as 'viral' (or containing viral sequence) by each of the tools for each assembly\n",
    "\n",
    "The script `summarise_viral_contigs.py` is available in `.../scripts/`\n",
    "\n",
    "- This takes the files output from *VirSorter2*, *VIBRANT*, and/or *DeepVirFinder* and generates a summary table based on contig IDs.\n",
    "- Not all inputs are required (e.g. if you excluded running *DeepVirFinder*, this can be omitted here)"
   ]
  },
  {
   "cell_type": "code",
   "execution_count": null,
   "id": "ab9dd5c5-8b10-4659-abc9-aecfe427b4c5",
   "metadata": {},
   "outputs": [],
   "source": [
    "# Working dir\n",
    "cd /working/dir/1.viral_identification/\n",
    "mkdir -p 2.summary_tables\n",
    "\n",
    "# modules\n",
    "module purge\n",
    "module load Python/3.9.9-gimkl-2020a\n",
    "\n",
    "# Run script\n",
    "for i in {1..9}; do\n",
    "    /path/to/scripts/summarise_viral_contigs.py \\\n",
    "    --vibrant 1.vibrant/VIBRANT_S${i}.m1000/VIBRANT_results_S${i}.m1000/VIBRANT_summary_results_S${i}.m1000.tsv \\\n",
    "    --virsorter2 1.virsorter2/S${i}/S${i}-final-viral-score_filt_0.9.tsv \\\n",
    "    --deepvirfinder 1.deepvirfinder/S${i}.dvfpred_filtered.txt \\\n",
    "    --out_prefix 2.summary_tables/S${i}.viral_contigs.summary_table\n",
    "done\n"
   ]
  },
  {
   "cell_type": "markdown",
   "id": "20738568-96de-4ec1-aac9-124fb7e61390",
   "metadata": {},
   "source": [
    "***"
   ]
  },
  {
   "cell_type": "markdown",
   "id": "bf420a87-b5a8-46bb-ab0f-bfd6b78deb58",
   "metadata": {},
   "source": [
    "## 1A.5 Viral contigs: per-sample dereplication\n",
    "\n",
    "For *each* assembly data set, dereplicate *across the separate tools used* to identify putative viral contigs, and generate new fasta files of 'dereplicated' identified viral contigs. (I.e. creating fasta files of combined results from all three methods (based on the summary table generated above).\n",
    "\n",
    "NOTE:\n",
    "\n",
    "- Both *VirSorter2* and *VIBRANT* can return prophage sequences that have been excised out of the original assembly contigs (which may also contain contaminating host sequence on either end of the prophage sequence). \n",
    "- With how `virome_per_sample_derep.py` is currently written, all prophage genomic regions excised from contigs (i.e. after trimming off host regions) by either *VIBRANT* or *VirSorter2* are all still retained (*VIBRANT* IDs for excised prophage have 'fragment' in the contig header, *VirSorter2* IDs include 'partial'). If both tools excise a prophage from the same contig, both will be retained here (i.e. there will likely be a number of duplicates of prophage sequences retained). But this is ok, as they will be dereplicated downstream in the `Cluster_genomes_5.1.pl` step.\n",
    "- In cases where any tool (*VirSorter2* or *VIBRANT*) has excised a prophage from a contig, this script also ensures that the original full contig is *not* retained, even if it as been identified as 'viral' by one of the other tools (e.g. *DeepVirFinder*). This is to ensure that the excised prophage is not simply re-integrated into the full contig (with contaminating host sequence on either end) and lost during the downstream `Cluster_genomes_5.1.pl` dereplication step."
   ]
  },
  {
   "cell_type": "code",
   "execution_count": null,
   "id": "471837a7-8384-42ee-91e6-1e24540d551d",
   "metadata": {},
   "outputs": [],
   "source": [
    "# Working dir\n",
    "cd /working/dir\n",
    "mkdir -p 1.viral_identification/3.perSample_derep\n",
    "\n",
    "# modules\n",
    "module purge\n",
    "module load Python/3.9.9-gimkl-2020a\n",
    "\n",
    "# Run script \n",
    "for i in {1..9}; do\n",
    "    /path/to/scripts/virome_per_sample_derep.py \\\n",
    "    --assembly_fasta /path/to/wgs/assembly/2.spades_assembly_edit_m1000/S${i}.assembly.m1000.fasta \\\n",
    "    --summary_table 1.viral_identification/2.summary_tables/S${i}.viral_contigs.summary_table_VIRUSES.txt \\\n",
    "    --vibrant 1.viral_identification/1.vibrant/VIBRANT_S${i}.assembly.m1000/VIBRANT_phages_S${i}.assembly.m1000/S${i}.assembly.m1000.phages_combined.fna \\\n",
    "    --virsorter2 1.viral_identification/1.virsorter2/S${i}/S${i}-final-viral-combined.fa \\\n",
    "    --output 1.viral_identification/3.perSample_derep/S${i}.viral_contigs.fna\n",
    "done\n"
   ]
  },
  {
   "cell_type": "markdown",
   "id": "984c4a29-f630-48bc-b79b-fa8e8256cbfa",
   "metadata": {
    "tags": []
   },
   "source": [
    "#### Filter dereplicated contigs to remove those < 3000 bp\n",
    "\n",
    "Confidence in the viral calls of each of the tools generally increases with contig length. As such, various studies have only retained contigs greater than a set threshold (e.g. 3,000 bp, 5,000 bp, or 10,000 bp). This also can assist with reducing the dataset to a manageable size in large complex metagenome data sets.\n",
    "\n",
    "The example below filters to only retain contigs > 5000 bp"
   ]
  },
  {
   "cell_type": "code",
   "execution_count": null,
   "id": "5f47f4c0-e02f-496c-92df-ee9ad6c83900",
   "metadata": {},
   "outputs": [],
   "source": [
    "# Load dependencies\n",
    "module purge\n",
    "module load seqmagick/0.7.0-gimkl-2017a-Python-3.6.3\n",
    "\n",
    "# Working directory\n",
    "cd /working/dir\n",
    "\n",
    "for i in {1..9}; do\n",
    "    seqmagick convert --min-length 5000 \\\n",
    "    1.viral_identification/3.perSample_derep/S${i}.viral_contigs.fna \\\n",
    "    1.viral_identification/3.perSample_derep/S${i}.viral_contigs.filt.fna\n",
    "done\n"
   ]
  },
  {
   "cell_type": "markdown",
   "id": "0a40d18b-d124-4c04-a13a-0591a735f955",
   "metadata": {},
   "source": [
    "***"
   ]
  },
  {
   "cell_type": "markdown",
   "id": "e88b90c4-400c-4ac0-97a6-d87f6eb9c982",
   "metadata": {},
   "source": [
    "## 1A.6 Per-sample quality assessment and additional filtering"
   ]
  },
  {
   "cell_type": "markdown",
   "id": "7ef0ed81-c009-4377-9455-f84e05d6094b",
   "metadata": {
    "tags": []
   },
   "source": [
    "#### CheckV perSample: All samples\n",
    "\n",
    "*checkV* is a tool that has been developed as an analogue to *checkM*. *checkV* provides various statisics about the putative viral contigs data set, including length, gene count, viral and host gene counts, and estimated completeness and contamination. \n",
    "\n",
    "We can run *checkV* on the ouput from dereplication of contigs identified by the three methods, and use the results from *checkV* as an additional filtering step prior to our final dereplication.\n",
    "\n",
    "Run *checkV*:"
   ]
  },
  {
   "cell_type": "code",
   "execution_count": null,
   "id": "30b93b0f-e5b3-4e82-9825-b40e1051d5f2",
   "metadata": {},
   "outputs": [],
   "source": [
    "#!/bin/bash -e\n",
    "#SBATCH -A your_project_account\n",
    "#SBATCH -J 3_checkv_perSample\n",
    "#SBATCH --time 00:20:00\n",
    "#SBATCH --mem=4GB\n",
    "#SBATCH --ntasks=1\n",
    "#SBATCH --array=1-9\n",
    "#SBATCH --cpus-per-task=16\n",
    "#SBATCH -e 3_checkv_perSample_%a.err\n",
    "#SBATCH -o 3_checkv_perSample_%a.out\n",
    "#SBATCH --profile=task\n",
    "\n",
    "# Load dependencies\n",
    "module purge\n",
    "module load CheckV/0.7.0-gimkl-2020a-Python-3.8.2\n",
    "\n",
    "# Set up working directories\n",
    "cd /working/dir\n",
    "mkdir -p 1.viral_identification/4.perSample_checkv\n",
    "\n",
    "# Run main analyses \n",
    "checkv_in=\"1.viral_identification/3.perSample_derep/S${SLURM_ARRAY_TASK_ID}.viral_contigs.filt.fna\"\n",
    "checkv_out=\"1.viral_identification/4.perSample_checkv/S${SLURM_ARRAY_TASK_ID}\"\n",
    "srun checkv end_to_end ${checkv_in} ${checkv_out} -t 16 --quiet\n"
   ]
  },
  {
   "cell_type": "markdown",
   "id": "7ca06aef-4c91-4b08-98ba-9cae5f64bf07",
   "metadata": {},
   "source": [
    "#### Concatenate output fasta files (viruses.fna and proviruses.fna) for downstream use\n",
    "\n",
    "- Note: this script also modifies contig headers for readability in any cases where *checkV* has trimmed any residual host sequence off the end of integrated prophage sequence (this is separate and additional to previous prophage excision by *VIBRANT* or *VirSorter2*)."
   ]
  },
  {
   "cell_type": "code",
   "execution_count": null,
   "id": "33272bd6-b0b3-41d5-9ba9-4d9bcca5263d",
   "metadata": {},
   "outputs": [],
   "source": [
    "cd /working/dir\n",
    "\n",
    "for i in {1..9}; do\n",
    "    # concatenate viruses and prophage files\n",
    "    cat 1.viral_identification/4.perSample_checkv/S${i}/viruses.fna 1.viral_identification/4.perSample_checkv/S${i}/proviruses.fna > 1.viral_identification/4.perSample_checkv/S${i}/viral_contigs.fna \n",
    "    # modify checkv prophage contig headers\n",
    "    sed -i -e \"s/\\s/__excised_start_/g\" -e \"s/-/_end_/g\" -e \"s/\\//_len_/g\" -e \"s/|/_/\" -e \"s/|//g\" 1.viral_identification/4.perSample_checkv/S${i}/viral_contigs.fna\n",
    "done\n"
   ]
  },
  {
   "cell_type": "markdown",
   "id": "a6410222-bf50-4643-9167-4480ef4d24f9",
   "metadata": {},
   "source": [
    "#### Add checkv results to summary table\n",
    "\n",
    "This may ultimately be put into a script for ease of use. But for now we can use the python code below."
   ]
  },
  {
   "cell_type": "code",
   "execution_count": null,
   "id": "f3eb7253-556b-4595-b486-28d5ef648554",
   "metadata": {},
   "outputs": [],
   "source": [
    "cd /working/dir/1.viral_identification\n",
    "\n",
    "# LOAD PYTHON\n",
    "module purge\n",
    "module load Python/3.8.2-gimkl-2020a\n",
    "python3\n",
    "import pandas as pd\n",
    "import numpy as np\n",
    "\n",
    "# Loop through all sample summary_tables, add key checkv results columns and write out.\n",
    "for i in range(1, 10):\n",
    "    # Import summary table (manually set dtypes)\n",
    "    summary_table = pd.read_csv('2.summary_tables/S'+str(i)+'.viral_contigs.summary_table_VIRUSES.txt', sep='\\t', \\\n",
    "                                dtype={'contig_ID': str, 'vibrant_contig_ID': str, 'vibrant_total_genes': float, \\\n",
    "                                       'vibrant_KEGG_genes': float, 'vibrant_KEGG_v_score': float, 'vibrant_Pfam_genes': float, \\\n",
    "                                       'vibrant_Pfam_v_score': float, 'vibrant_VOG_genes': float, 'vibrant_VOG_v_score': float, \\\n",
    "                                       'vsort2_contig_ID': str, 'vsort2_max_score': float, 'vsort2_max_score_group': str, \\\n",
    "                                       'vsort2_hallmark_genes': float, 'vsort2_viral_component': float, 'vsort2_cellular_component': float, \\\n",
    "                                       'dvfind_contig_ID': str, 'dvfind_score': float, 'dvfind_p_adj': float})        \n",
    "    # Import checkv summary results\n",
    "    checkv = pd.read_csv('4.perSample_checkv/S'+str(i)+'/quality_summary.tsv', sep='\\t', \\\n",
    "                        dtype={'contig_id': str, 'contig_length': float, 'provirus': str, 'proviral_length': float, \\\n",
    "                               'gene_count': float, 'viral_genes': float, 'host_genes': float, 'checkv_quality': str, \\\n",
    "                               'miuvig_quality': str, 'completeness': float, 'completeness_method': str, \\\n",
    "                               'contamination': float, 'kmer_freq': float, 'warnings': str})\n",
    "    checkv = checkv.add_prefix('checkv_')\n",
    "    checkv['contig_ID'] = checkv['checkv_contig_id']\n",
    "    # Merge with summary_table\n",
    "    summary_table = pd.merge(summary_table, checkv, left_on=\"contig_ID\", right_on=\"contig_ID\", how='outer')\n",
    "    # Output summary table\n",
    "    summary_table.to_csv('2.summary_tables/S'+str(i)+'.viral_contigs.summary_table_VIRUSES_checkv.txt', sep='\\t', index=False)\n",
    "\n",
    "quit()\n"
   ]
  },
  {
   "cell_type": "markdown",
   "id": "36ca56c2-26ec-44b0-ade3-618b04c219a8",
   "metadata": {
    "tags": []
   },
   "source": [
    "#### Filter putative 'viral' contigs by checkv results\n",
    "\n",
    "The script `checkv_filter_contigs.py` (available in `../scipts/`) further filters the sets of viral contigs based on *checkV* results. By default, this retains only contigs where: ((viral_genes>0) OR (viral_genes=0 AND host_genes=0). This script takes the *checkV* outputs (including the proviruses and viruses fna files, and quality summary), and returns fna and quality summary files with 'filtered' appended to the file name.\n"
   ]
  },
  {
   "cell_type": "code",
   "execution_count": null,
   "id": "b559500e-ebf1-4da5-88a2-1e26350e83fa",
   "metadata": {},
   "outputs": [],
   "source": [
    "# Load dependencies\n",
    "module purge\n",
    "module load Python/3.8.2-gimkl-2020a\n",
    "\n",
    "# Working directory\n",
    "cd /working/dir\n",
    "\n",
    "for i in {1..9}; do\n",
    "    /path/to/scripts/checkv_filter_contigs.py \\\n",
    "    --checkv_dir_input 1.viral_identification/4.perSample_checkv/S${i}/ \\\n",
    "    --output_prefix 1.viral_identification/4.perSample_checkv/S${i}/viral_contigs\n",
    "done\n"
   ]
  },
  {
   "cell_type": "markdown",
   "id": "1ae3cced-842f-48fc-81dd-74587b029e13",
   "metadata": {},
   "source": [
    "***"
   ]
  },
  {
   "cell_type": "markdown",
   "id": "f3c5cf15-baf2-4909-a502-0f8b8723f258",
   "metadata": {},
   "source": [
    "## 1A.7 Dereplication across samples\n",
    "\n",
    "Contigs identified so far now need to be dereplicated into a single final set of viral contigs. This final set of representative (clustered) contigs can be referred to as 'viral operational taxonomic units' (vOTUs), representing distinct viral 'populations'. \n",
    "\n",
    "Here we can use the `Cluster_genomes_5.1.pl` script developed by Simon Roux's group: https://github.com/simroux/ClusterGenomes\n",
    "\n",
    "This script clusters contigs based on sequence similarity thresholds, returning a representative (vOTU) sequence for each cluster. The following paper recommends a threshold of 95% similarity over 85% of the sequence length, based on currently available data: https://doi.org/10.1038/nbt.4306\n",
    "\n",
    "In the case where multiple assemblies have been analysed, this step is necessary to reduce the viral data down to one representative set for all sample assemblies (which is important for read mapping to assess differntial coverage across assemblies, for example). Where only one assembly data set has been processed, this step is still useful to reduce the data down into meaningful units for downstream analyses (i.e. viral 'populations' rather than unique sequences).\n",
    "\n",
    "Note: \n",
    "\n",
    "- Download the `Cluster_genomes_5.1.pl` script from https://github.com/simroux/ClusterGenomes\n",
    "- *mummer* is also required. Download the latest version and add the path to the bin directory in the `Cluster_genomes_5.1.pl` script below."
   ]
  },
  {
   "cell_type": "markdown",
   "id": "ef450693-e3f9-4698-91bb-cc63262c93fa",
   "metadata": {},
   "source": [
    "#### If required: Install *Cluster_genomes_5.1.pl* and *mummer*"
   ]
  },
  {
   "cell_type": "code",
   "execution_count": null,
   "id": "bb7df657-5c32-44c2-b85d-de3d5decb1e3",
   "metadata": {},
   "outputs": [],
   "source": [
    "# Install Cluster_genomes_5.1.pl\n",
    "mkdir -p /path/to/Software/Cluster_genomes\n",
    "cd -p /path/to/Software/Cluster_genomes\n",
    "wget https://raw.githubusercontent.com/simroux/ClusterGenomes/master/Cluster_genomes_5.1.pl\n",
    "chmod 777 Cluster_genomes_5.1.pl\n",
    "\n",
    "# Install mummer4\n",
    "mkdir -p /path/to/Software/mummer_v4.0.0/\n",
    "cd /path/to/Software/mummer_v4.0.0\n",
    "wget https://github.com/mummer4/mummer/releases/download/v4.0.0rc1/mummer-4.0.0rc1.tar.gz\n",
    "tar -xzf mummer-4.0.0rc1.tar.gz\n",
    "cd mummer-4.0.0rc1/\n",
    "./configure --prefix=/path/to/Software/mummer_v4.0.0\n",
    "make\n",
    "make install\n"
   ]
  },
  {
   "cell_type": "markdown",
   "id": "7c4be5d4-1ee1-48b1-bffc-83ce34f15fb2",
   "metadata": {},
   "source": [
    "#### File prep: Concatenate multiple sample fasta files together for `cluster_genomes.pl`"
   ]
  },
  {
   "cell_type": "code",
   "execution_count": null,
   "id": "e9bb8ad4-1da0-46d7-b965-3c9c1fafe804",
   "metadata": {},
   "outputs": [],
   "source": [
    "cd /working/dir\n",
    "mkdir -p 1.viral_identification/5.cluster_vOTUs/\n",
    "\n",
    "> 5.cluster_genomes/viral_contigs_allSamples.fna\n",
    "for i in {1..9}; do\n",
    "    cat 1.viral_identification/4.perSample_checkv/S${i}/viral_contigs_filtered.fna >> 1.viral_identification/5.cluster_vOTUs/viral_contigs_allSamples.fna\n",
    "done\n",
    "\n",
    "# Sort by sequence size\n",
    "module purge\n",
    "module load BBMap/38.95-gimkl-2020a \n",
    "sortbyname.sh in=1.viral_identification/5.cluster_vOTUs/viral_contigs_allSamples.fna out=1.viral_identification/5.cluster_vOTUs/viral_contigs_allSamples.sorted.fna length descending\n"
   ]
  },
  {
   "cell_type": "markdown",
   "id": "7d46ff32-50bb-4008-a1ef-8d3bba270fa0",
   "metadata": {},
   "source": [
    "#### Run cluster_genomes.pl\n",
    "\n",
    "Run cluster_genomes.pl at min identity = 95% similarity over at least 85% of the shortest contig\n"
   ]
  },
  {
   "cell_type": "code",
   "execution_count": null,
   "id": "5091e856-6c8d-430f-b8e3-e7348a916228",
   "metadata": {},
   "outputs": [],
   "source": [
    "# Load dependencies\n",
    "module purge\n",
    "\n",
    "# Set up working directories\n",
    "cd /working/dir/1.viral_identification/5.cluster_vOTUs\n",
    "\n",
    "# Run\n",
    "/path/to/scripts/Cluster_genomes_5.1.pl \\\n",
    "-f viral_contigs_allSamples.sorted.fna \\\n",
    "-d /path/to/Software/mummer_v4.0.0/bin/ \\\n",
    "-t 20 \\\n",
    "-c 85 \\\n",
    "-i 95\n"
   ]
  },
  {
   "cell_type": "markdown",
   "id": "3402241a-be96-4e0a-be72-64a918a367c7",
   "metadata": {},
   "source": [
    "#### Check total number of clustered contigs (vOTUs)"
   ]
  },
  {
   "cell_type": "code",
   "execution_count": null,
   "id": "2d0e9d18-3265-4f70-81ac-b4ad880f763f",
   "metadata": {},
   "outputs": [],
   "source": [
    "cd /working/dir\n",
    "\n",
    "# count contigs in cluster output file\n",
    "grep -c \">\" 1.viral_identification/5.cluster_vOTUs/viral_contigs_allSamples.sorted_95-85.fna\n"
   ]
  },
  {
   "cell_type": "markdown",
   "id": "b355a2ba-1aba-4325-ba30-30849b27a377",
   "metadata": {},
   "source": [
    "#### Optional: Modify derep contig headers to be *vOTU_n*\n",
    "\n",
    "- It can be useful for downstream processing to standardise the contig headers of the cluster representative sequences; for example, to replace all headers with *vOTU_n*. \n",
    "- The script below replaces all headers with *vOTU_n* and create a table file of *vOTU_n* ids against the original full contig headers (of the *representative* sequences from each cluster).\n",
    "  - Note: Cluster_genomes_5.1.pl also outputs a file matching cluster representative sequences to each of the sequences that are contained in the cluster.\n",
    "- *Optional*: you may also wish to omit this step here and instead run it after having calculated differential coverage across sample assmeblies (via read mapping), to enable first ordering the contigs by abundance (coverage), and *then* generating *vOTU_n* headers\n",
    "- This may ultimately be put into a script for ease of use. But for now we can use the python code below"
   ]
  },
  {
   "cell_type": "code",
   "execution_count": null,
   "id": "dd572b0f-b094-4c1a-9959-b1562e182c29",
   "metadata": {},
   "outputs": [],
   "source": [
    "cd /working/dir/1.viral_identification/5.cluster_vOTUs\n",
    "\n",
    "# LOAD PYTHON\n",
    "module purge\n",
    "module load Python/3.8.2-gimkl-2020a\n",
    "python3\n",
    "import os\n",
    "import pandas as pd\n",
    "import numpy as np\n",
    "import re\n",
    "from Bio.SeqIO.FastaIO import SimpleFastaParser\n",
    "\n",
    "fasta_in = 'viral_contigs_allSamples.sorted_95-85.fna'\n",
    "fasta_out = 'vOTUs.fna'\n",
    "lookup_table_out = 'vOTUs_lookupTable.txt'\n",
    "\n",
    "# Read in fasta file, looping through each contig\n",
    "# rename contig headers with incrementing vOTU_n headers\n",
    "# write out new vOTUs.fna file and tab-delimited table file of matching vOTU_n and contigID headers.\n",
    "i=1\n",
    "with open(fasta_in, 'r') as read_fasta:\n",
    "    with open(fasta_out, 'w') as write_fasta:\n",
    "        with open (lookup_table_out, 'w') as write_table:\n",
    "            write_table.write(\"vOTU\" + \"\\t\" + \"cluster_rep_contigID\" + \"\\n\")\n",
    "            for name, seq in SimpleFastaParser(read_fasta):\n",
    "                write_table.write(\"vOTU_\" + str(i) + \"\\t\" + name + \"\\n\")\n",
    "                write_fasta.write(\">\" + \"vOTU_\" + str(i) + \"\\n\" + str(seq) + \"\\n\")\n",
    "                i += 1\n",
    "\n",
    "quit()\n"
   ]
  },
  {
   "cell_type": "markdown",
   "id": "6d45c40b-53c7-40c4-bf83-b9bc14734f97",
   "metadata": {},
   "source": [
    "***\n"
   ]
  },
  {
   "cell_type": "markdown",
   "id": "16778b96-552d-428d-aa22-f11ab8f43b3a",
   "metadata": {},
   "source": [
    "## 1A.8 vOTUs assessment and additional filtering"
   ]
  },
  {
   "cell_type": "markdown",
   "id": "dc581c87-6082-4ca7-9872-c5f77c11a648",
   "metadata": {},
   "source": [
    "### CheckV on vOTUs\n",
    "\n",
    "Re-run *CheckV*, this time on the dereplicated contig set (vOTUs) to output *checkV* stats"
   ]
  },
  {
   "cell_type": "code",
   "execution_count": null,
   "id": "7a901067-8668-4668-88d4-7311e47f6e29",
   "metadata": {},
   "outputs": [],
   "source": [
    "#!/bin/bash -e\n",
    "#SBATCH -A your_project_account\n",
    "#SBATCH -J 3_checkv_vOTUs\n",
    "#SBATCH --time 01:00:00\n",
    "#SBATCH --mem=4GB\n",
    "#SBATCH --ntasks=1\n",
    "#SBATCH --cpus-per-task=16\n",
    "#SBATCH -e 3_checkv_vOTUs.err\n",
    "#SBATCH -o 3_checkv_vOTUs.out\n",
    "#SBATCH --profile=task\n",
    "\n",
    "# Load dependencies\n",
    "module purge\n",
    "module load CheckV/0.7.0-gimkl-2020a-Python-3.8.2\n",
    "\n",
    "# Set up working directories\n",
    "cd /working/dir/1.viral_identification\n",
    "mkdir -p 6.checkv_vOTUs\n",
    "\n",
    "# Run main analyses \n",
    "checkv_in=\"5.cluster_vOTUs/vOTUs.fna\"\n",
    "checkv_out=\"6.checkv_vOTUs\"\n",
    "srun checkv end_to_end ${checkv_in} ${checkv_out} -t 16 --quiet\n"
   ]
  },
  {
   "cell_type": "markdown",
   "id": "aa7454a7-5756-4461-a614-84c9ff24f0df",
   "metadata": {},
   "source": [
    "#### CheckV: Concatenate output fasta files (viruses.fna and proviruses.fna)"
   ]
  },
  {
   "cell_type": "code",
   "execution_count": null,
   "id": "fb0066ca-7c9b-4ded-846b-2b81fe3425d1",
   "metadata": {},
   "outputs": [],
   "source": [
    "cd /working/dir/1.viral_identification\n",
    "\n",
    "# concatenate viruses and prophage files\n",
    "cat 6.checkv_vOTUs/viruses.fna  6.checkv_vOTUs/proviruses.fna >  6.checkv_vOTUs/vOTUs.checkv.fna \n",
    "# modify checkv prophage contig headers\n",
    "sed -i -e \"s/\\s/__excised_start_/g\" -e \"s/-/_end_/g\" -e \"s/\\//_len_/g\" -e \"s/|/_/\" -e \"s/|//g\" 6.checkv_vOTUs/vOTUs.checkv.fna\n"
   ]
  },
  {
   "cell_type": "markdown",
   "id": "ab916f4a-9bb5-462f-a7b8-9758a3caf67e",
   "metadata": {},
   "source": [
    "#### Filter vOTUs based on *checkV* results\n",
    "\n",
    "**NOTE**:\n",
    "\n",
    "- As we have run `checkv_filter_contigs.py` on all individual contigs (in the per-sample QC step previously), this may be redundant here? \n",
    "- In which case, simply proceed with the concatenated file above, rather than the `..._filtered...` files output by `checkv_filter_contigs.py`\n"
   ]
  },
  {
   "cell_type": "code",
   "execution_count": null,
   "id": "51e60500-b5bd-4aeb-b47a-540a8b29e0c0",
   "metadata": {},
   "outputs": [],
   "source": [
    "# Load dependencies\n",
    "module purge\n",
    "module load Python/3.8.2-gimkl-2020a\n",
    "export PATH=\"/nesi/project/uoa02469/custom-scripts/MikeH/:$PATH\"\n",
    "\n",
    "# Set up working directories\n",
    "cd /working/dir/1.viral_identification\n",
    "\n",
    "# Run for vOTUs\n",
    "/path/to/scripts/checkv_filter_contigs.py \\\n",
    "    --checkv_dir_input 6.checkv_vOTUs/ \\\n",
    "    --output_prefix 6.checkv_vOTUs/vOTUs.checkv\n"
   ]
  },
  {
   "cell_type": "markdown",
   "id": "cf7e9270-8a99-440b-a353-add7afa81192",
   "metadata": {},
   "source": [
    "***"
   ]
  },
  {
   "cell_type": "markdown",
   "id": "9ba3245c-0e9d-4429-b364-78dc442d41dd",
   "metadata": {},
   "source": [
    "## 1A.9 Final set of dereplicated viral contigs\n",
    "\n",
    "At this stage we have a final set of dereplicated viral contigs for all downstream analyses.\n",
    "\n",
    "Key files include:\n",
    "\n",
    "- Final dereplicated viral contig data set: `/working/dir/1.viral_identification/6.checkv_vOTUs/vOTUs.checkv_filtered.fna` \n",
    "  - (Or `vOTUs.checkv.fna`, if the final `checkv_filter_contigs.py` step was not run)\n",
    "- *checkV* stats for dereplicated viral contigs: `/working/dir/1.viral_identification/6.checkv_vOTUs/vOTUs.checkv_filtered_quality_summary.txt`"
   ]
  },
  {
   "cell_type": "markdown",
   "id": "e63131be-3b69-4b9a-8894-cc6f45338664",
   "metadata": {},
   "source": [
    "***"
   ]
  },
  {
   "cell_type": "markdown",
   "id": "a43d9007-1ae7-4b8a-92e4-e2759b452928",
   "metadata": {},
   "source": [
    "## 1A.10 Additional Resources\n",
    "\n",
    "#### Notes on manual curation of vOTUs and general resources\n",
    "\n",
    "Some very helpful notes on manual curation are available at the *VirSorter2* protocols page here: https://doi.org/10.17504/protocols.io.bwm5pc86\n",
    "\n",
    "Further valuable reading on Minimum Information about an Uncultivated Virus Genome (MIUViG): https://doi.org/10.1038/nbt.4306\n",
    "\n",
    "A great resource on standards in viromics: https://doi.org/10.7717/peerj.11447"
   ]
  },
  {
   "cell_type": "markdown",
   "id": "ea1cc114-892b-4b1d-9ebe-4765fcfc5881",
   "metadata": {},
   "source": [
    "***"
   ]
  }
 ],
 "metadata": {
  "kernelspec": {
   "display_name": "Python 3 (ipykernel)",
   "language": "python",
   "name": "python3"
  },
  "language_info": {
   "codemirror_mode": {
    "name": "ipython",
    "version": 3
   },
   "file_extension": ".py",
   "mimetype": "text/x-python",
   "name": "python",
   "nbconvert_exporter": "python",
   "pygments_lexer": "ipython3",
   "version": "3.9.12"
  }
 },
 "nbformat": 4,
 "nbformat_minor": 5
}
