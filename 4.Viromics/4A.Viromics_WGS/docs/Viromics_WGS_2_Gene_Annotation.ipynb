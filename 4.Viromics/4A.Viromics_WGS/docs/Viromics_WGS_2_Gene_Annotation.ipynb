{
 "cells": [
  {
   "cell_type": "markdown",
   "id": "3d24445e-c244-4d5f-b60a-ee3720b5d29b",
   "metadata": {},
   "source": [
    "# Gene prediction and annotation"
   ]
  },
  {
   "cell_type": "markdown",
   "id": "0274dbfc-b13b-4b68-a4a5-af4a83c1d300",
   "metadata": {},
   "source": [
    "***"
   ]
  },
  {
   "cell_type": "markdown",
   "id": "c3ca6519-cb52-429d-986a-272caee49e4f",
   "metadata": {},
   "source": [
    "*DRAM* is a useful tool for microbial gene prediction and annotation, and which also comes with a viral-focused equivalent, *DRAM-v*. *DRAM-v* outputs predicted annotations for genes based on several relevant databases, as well as predicted Auxiliary Metabolic Genes (AMG).\n",
    "\n",
    "To run *DRAM-v* we must first re-run *VirSorter2* (with the filtering steps omitted this time) to prepare the necessary input files for *DRAM-v* (including to calculate metrics that *DRAM-v* uses for flagging Auxiliary Metabolic Genes (AMG)).\n",
    "\n",
    "Further information on *DRAM* is available here: https://github.com/WrightonLabCSU/DRAM\n",
    "\n",
    "NOTE:\n",
    "\n",
    "- On large data sets, it can be necessary to split the vOTUs into subsets to run in parallel and then concatenate the results files.\n",
    "- In the example below, we will: \n",
    "  1. split viral contigs input file into subsets (e.g. 100 subsets) to run DRAM in parallel\n",
    "    - See [here](https://github.com/WrightonLabCSU/DRAM/issues/54) for more info on parallelisation and restarting runs\n",
    "  1. prep files for *DRAM-v* via *VirSorter2* (with filtering switched off)\n",
    "  1. Concatenate the files that *VirSorter2* prepared for *DRAM-v* for other downstream use (taxonomy, etc.)\n",
    "  1. Run all `prepped-for-dramv` files through *DRAM-v* for annotations and AMG outputs\n",
    "  1. Concatenate all results files together"
   ]
  },
  {
   "cell_type": "markdown",
   "id": "331493af-5287-4826-915e-6a84eec24243",
   "metadata": {},
   "source": [
    "***"
   ]
  },
  {
   "cell_type": "markdown",
   "id": "ee0d52e2-9899-46e4-a053-a13d344a9a2f",
   "metadata": {},
   "source": [
    "## DRAM-v: vOTUs"
   ]
  },
  {
   "cell_type": "markdown",
   "id": "7d5bb6ee-a00b-495d-96ba-1ab93d6c873b",
   "metadata": {},
   "source": [
    "#### DRAM-v Prep: Split fasta file\n",
    "\n",
    "For large data sets, split the vOTUs fna file into subset chunks to run *DRAM-v* in parallel."
   ]
  },
  {
   "cell_type": "code",
   "execution_count": null,
   "id": "64ffe70d-ff00-4188-bcc9-22c70a642bfa",
   "metadata": {},
   "outputs": [],
   "source": [
    "cd /working/dir/\n",
    "mkdir -p 2.annotation/1.DRAMv/vsort2_prepfiles/split_input_fasta\n",
    "\n",
    "module purge\n",
    "module load BBMap/38.95-gimkl-2020a\n",
    "\n",
    "partition.sh \\\n",
    "in=1.viral_identification/6.checkv_vOTUs/vOTUs.checkv_filtered.fna \\\n",
    "out=2.annotation/1.DRAMv/vsort2_prepfiles/split_input_fasta/vOTUs_filtered_subset_%.fna ways=100\n"
   ]
  },
  {
   "cell_type": "markdown",
   "id": "1a4957ed-4879-4260-af3c-a8f261fee088",
   "metadata": {},
   "source": [
    "#### DRAM-v Prep: VirSorter2\n",
    "\n",
    "NOTE: \n",
    "\n",
    "- VirSorter2.2.3 **must** be run with `module unload XALT` after `module purge`\n",
    "- Replace `/path/to/Databases/virsorter2_database/` with the appropriate path\n",
    "- To omit filtering and to prepare for *DRAM-v*, the following flags are included: `--viral-gene-enrich-off --provirus-off --prep-for-dramv --min-score 0`\n"
   ]
  },
  {
   "cell_type": "code",
   "execution_count": null,
   "id": "b1d76c47-8e4b-4290-b380-64d0bdf5f7d2",
   "metadata": {},
   "outputs": [],
   "source": [
    "#!/bin/bash -e\n",
    "#SBATCH -A your_project_account\n",
    "#SBATCH -J 4_DRAMv_prep\n",
    "#SBATCH --time 01:00:00\n",
    "#SBATCH --mem=2GB\n",
    "#SBATCH --array=0-99\n",
    "#SBATCH --ntasks=1\n",
    "#SBATCH --cpus-per-task=24\n",
    "#SBATCH -e 4_DRAMv_prep_%a.err\n",
    "#SBATCH -o 4_DRAMv_prep_%a.out\n",
    "\n",
    "# Load module\n",
    "module purge\n",
    "module unload XALT\n",
    "module load VirSorter/2.2.3-gimkl-2020a-Python-3.8.2\n",
    "\n",
    "# Set up working directories\n",
    "cd /working/dir\n",
    "mkdir -p 2.annotation/1.DRAMv/vsort2_prepfiles/vOTUs_filtered_subsets/\n",
    "\n",
    "# run virsorter2\n",
    "srun virsorter run -j 24 \\\n",
    "--seqname-suffix-off --viral-gene-enrich-off --provirus-off --prep-for-dramv \\\n",
    "-i 2.annotation/1.DRAMv/vsort2_prepfiles/split_input_fasta/vOTUs_filtered_subset_${SLURM_ARRAY_TASK_ID}.fna \\\n",
    "-d /path/to/Databases/virsorter2_database/ \\\n",
    "--min-score 0 --include-groups dsDNAphage,NCLDV,RNA,ssDNA,lavidaviridae \\\n",
    "-l vOTUs_filtered_subset_${SLURM_ARRAY_TASK_ID} \\\n",
    "-w 2.annotation/1.DRAMv/vsort2_prepfiles/vOTUs_filtered_subsets/vOTUs_filtered_subset_${SLURM_ARRAY_TASK_ID} \\\n",
    "--tmpdir ${SLURM_JOB_ID}.tmp \\\n",
    "--rm-tmpdir \\\n",
    "all \\\n",
    "--config LOCAL_SCRATCH=${TMPDIR:-/tmp}\n"
   ]
  },
  {
   "cell_type": "markdown",
   "id": "5a748f6c-e459-42e9-96ea-0df7b475de5e",
   "metadata": {},
   "source": [
    "#### DRAM-v Prep: Concatenate fasta files together for downstream use. "
   ]
  },
  {
   "cell_type": "code",
   "execution_count": null,
   "id": "f6b1942f-7950-4518-95fa-fd2dd242fa63",
   "metadata": {},
   "outputs": [],
   "source": [
    "cd /working/dir/2.annotation/1.DRAMv/vsort2_prepfiles\n",
    "mkdir -p vOTUs_filtered_concatenated\n",
    "\n",
    "# concatenate fasta files\n",
    "> vOTUs_filtered_concatenated/final-viral-combined-for-dramv.fa\n",
    "for i in {0..99}; do\n",
    "    cat vOTUs_filtered_subsets/vOTUs_filtered_subset_${i}/vOTUs_filtered_subset_${i}-for-dramv/final-viral-combined-for-dramv.fa \\\n",
    "    >> vOTUs_filtered_concatenated/final-viral-combined-for-dramv.fa\n",
    "done\n"
   ]
  },
  {
   "cell_type": "markdown",
   "id": "b2425d75-4f58-4edc-9b9e-c8a1104a9dfc",
   "metadata": {},
   "source": [
    "#### DRAM-v: annotate"
   ]
  },
  {
   "cell_type": "code",
   "execution_count": null,
   "id": "471c5be2-f969-4668-b8e2-ff0ab4a701ad",
   "metadata": {},
   "outputs": [],
   "source": [
    "#!/bin/bash -e\n",
    "#SBATCH -A your_project_account\n",
    "#SBATCH -J 4_DRAMv_annotation_vOTUs\n",
    "#SBATCH --time=01:00:00\n",
    "#SBATCH --mem=80Gb\n",
    "#SBATCH --ntasks=1\n",
    "#SBATCH --array=0-99\n",
    "#SBATCH --cpus-per-task=32\n",
    "#SBATCH -e 4_DRAMv_annotation_vOTUs_%a.err \n",
    "#SBATCH -o 4_DRAMv_annotation_vOTUs_%a.out \n",
    "\n",
    "# set up\n",
    "cd /working/dir/\n",
    "mkdir -p 2.annotation/1.DRAMv/dramv_annotation\n",
    "\n",
    "# Load modules\n",
    "module purge\n",
    "module load DRAM/1.3.5-Miniconda3\n",
    "\n",
    "# Run DRAM\n",
    "DRAM-v.py annotate --threads 32 \\\n",
    "--min_contig_size 1000 \\\n",
    "-i 2.annotation/1.DRAMv/vsort2_prepfiles/vOTUs_filtered_subsets/vOTUs_filtered_subset_${SLURM_ARRAY_TASK_ID}/vOTUs_filtered_subset_${SLURM_ARRAY_TASK_ID}-for-dramv/final-viral-combined-for-dramv.fa \\\n",
    "-v 2.annotation/1.DRAMv/vsort2_prepfiles/vOTUs_filtered_subsets/vOTUs_filtered_subset_${SLURM_ARRAY_TASK_ID}/vOTUs_filtered_subset_${SLURM_ARRAY_TASK_ID}-for-dramv/viral-affi-contigs-for-dramv.tab \\\n",
    "-o 2.annotation/1.DRAMv/dramv_annotation/dramv_annotation_subset_${SLURM_ARRAY_TASK_ID}\n"
   ]
  },
  {
   "cell_type": "markdown",
   "id": "44ac0646-7d5f-4c90-98e5-ea92117e4f31",
   "metadata": {
    "tags": []
   },
   "source": [
    "#### DRAM-v: Compile DRAM-v annotation subsets\n",
    "\n",
    "The script `compile_dram_annotations.py` was written to recompile subsets of DRAM outputs, while allowing for cases where some results files were not generated (e.g. no tRNAs were identified for a given subset). It takes as input the directory path that contains each of the *DRAM-v* subsets outputs. This script is available in `../scripts/`."
   ]
  },
  {
   "cell_type": "code",
   "execution_count": null,
   "id": "f49d48fb-ca42-440f-bfe8-8f7a8a26b27a",
   "metadata": {},
   "outputs": [],
   "source": [
    "# Working directory\n",
    "cd /working/dir\n",
    "\n",
    "# Load python\n",
    "module purge\n",
    "module load Python/3.8.2-gimkl-2020a\n",
    "\n",
    "# Run compile dram annotations\n",
    "/path/to/scripts/compile_dram_annotations.py \\\n",
    "-i 2.annotation/1.DRAMv/dramv_annotation \\\n",
    "-o 2.annotation/1.DRAMv/dramv_annotation/collated_dramv_\n"
   ]
  },
  {
   "cell_type": "markdown",
   "id": "0815625a-3e01-4c5d-841a-31901a88958f",
   "metadata": {},
   "source": [
    "#### DRAM-v: distill\n",
    "\n",
    "`DRAM-v.py distill` can be used to output predicted auxiliary metabolic genes. \n",
    "\n",
    "*Optional*: The flags `--remove_transposons` and `--remove_fs` can be included to exclude predicted AMGs on scaffolds with transposons and those that are near the ends of scaffolds (these situations increase the likelihood of false positives)\n"
   ]
  },
  {
   "cell_type": "code",
   "execution_count": null,
   "id": "525c51e0-c0af-469b-aa26-e18298868d18",
   "metadata": {},
   "outputs": [],
   "source": [
    "# Working directory\n",
    "cd /working/dir\n",
    "\n",
    "# Load modules\n",
    "module purge\n",
    "module load DRAM/1.3.5-Miniconda3\n",
    "\n",
    "# Run DRAM\n",
    "DRAM-v.py distill --remove_transposons --remove_fs \\\n",
    "-i 2.annotation/1.DRAMv/dramv_annotation/collated_dramv_annotations.tsv \\\n",
    "-o 2.annotation/1.DRAMv/dramv_distillation\n"
   ]
  },
  {
   "cell_type": "markdown",
   "id": "a1d2fc67-36aa-46e0-8a4e-585c177d8bfa",
   "metadata": {},
   "source": [
    "***"
   ]
  },
  {
   "cell_type": "markdown",
   "id": "78aa9623-ea94-4e04-878f-3a09aef0f954",
   "metadata": {},
   "source": [
    "## Additional resources\n",
    "\n",
    "A great resource on standards in viromics, including specific discussion on auxiliary metabolic gene discovery and confirmation is available here: https://doi.org/10.7717/peerj.11447"
   ]
  }
 ],
 "metadata": {
  "kernelspec": {
   "display_name": "Python 3 (ipykernel)",
   "language": "python",
   "name": "python3"
  },
  "language_info": {
   "codemirror_mode": {
    "name": "ipython",
    "version": 3
   },
   "file_extension": ".py",
   "mimetype": "text/x-python",
   "name": "python",
   "nbconvert_exporter": "python",
   "pygments_lexer": "ipython3",
   "version": "3.9.12"
  }
 },
 "nbformat": 4,
 "nbformat_minor": 5
}
