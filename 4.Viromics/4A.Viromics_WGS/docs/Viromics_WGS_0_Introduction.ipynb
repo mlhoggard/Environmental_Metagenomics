{
 "cells": [
  {
   "cell_type": "markdown",
   "id": "e139318f-4e2a-491b-8cac-d187e8811749",
   "metadata": {
    "kernel": "SoS"
   },
   "source": [
    "# Introduction"
   ]
  }
 ],
 "metadata": {
  "kernelspec": {
   "display_name": "Python 3 (ipykernel)",
   "language": "python",
   "name": "python3"
  },
  "language_info": {
   "codemirror_mode": {
    "name": "ipython",
    "version": 3
   },
   "file_extension": ".py",
   "mimetype": "text/x-python",
   "name": "python",
   "nbconvert_exporter": "python",
   "pygments_lexer": "ipython3",
   "version": "3.9.12"
  },
  "sos": {
   "kernels": [
    [
     "SoS",
     "sos",
     "",
     ""
    ]
   ],
   "version": "0.23.3"
  }
 },
 "nbformat": 4,
 "nbformat_minor": 5
}
