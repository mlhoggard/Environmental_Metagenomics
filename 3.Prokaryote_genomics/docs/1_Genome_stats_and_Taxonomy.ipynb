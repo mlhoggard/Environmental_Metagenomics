{
 "cells": [
  {
   "cell_type": "markdown",
   "metadata": {},
   "source": [
    "# Prokaryote genomics: Genome stats and Taxonomy prediction\n"
   ]
  },
  {
   "cell_type": "markdown",
   "metadata": {},
   "source": [
    "***"
   ]
  },
  {
   "cell_type": "markdown",
   "metadata": {},
   "source": [
    "## Introduction\n",
    "\n",
    "Generate genome stats and taxonomy predictions for assembled isolate genomes or metagenome-assembled genomes (MAGs)\n",
    "\n",
    "NOTE: This process is comparable whether working with assembled genomes generated from either:\n",
    "\n",
    "- culture isolate sequencing (c.f. `Data_processing_and_assembly/1C.Prokaryote_isolate_sequencing_Nanopore/`) \n",
    "- genomes recovered from mixed metagenome assemblies (metagenome-assembled genomes (MAGs)) (c.f. `Data_processing_and_assembly/1A.Metagenomics_HiSeq/` and `2.Prokaryote_metagenomics_Binning/`)"
   ]
  },
  {
   "cell_type": "markdown",
   "metadata": {},
   "source": [
    "## Index\n",
    "\n",
    "- [1 Genome stats](#1-Genome-stats-via-checkM)\n",
    "- [2 Taxonomy](#2-Taxonomy-prediction-via-gtdb)\n",
    "- [3 Summary table of genome stats and taxonomy](#3-Summary-table-of-genome-stats-and-taxonomy)\n"
   ]
  },
  {
   "cell_type": "markdown",
   "metadata": {},
   "source": [
    "## 1 Genome stats via *checkM*\n",
    "\n",
    "Run *checkM* on the assembled genomes to generate genome statistics"
   ]
  },
  {
   "cell_type": "code",
   "execution_count": null,
   "metadata": {},
   "outputs": [],
   "source": [
    "#!/bin/bash\n",
    "#SBATCH -A your_project_account\n",
    "#SBATCH -J 3_isolate_genomes_checkm\n",
    "#SBATCH --time 00:40:00\n",
    "#SBATCH --ntasks=1\n",
    "#SBATCH --mem 45GB\n",
    "#SBATCH --cpus-per-task=20\n",
    "#SBATCH -e 3_isolate_genomes_checkm.err\n",
    "#SBATCH -o 3_isolate_genomes_checkm.out\n",
    "\n",
    "# Working directory\n",
    "cd /working/dir\n",
    "mkdir -p 1.checkm/\n",
    "\n",
    "# load CheckM\n",
    "module purge\n",
    "module load CheckM/1.0.13-gimkl-2018b-Python-2.7.16\n",
    "\n",
    "# Run CheckM\n",
    "checkm lineage_wf -t 20 --pplacer_threads 10 --tab_table \\\n",
    "-x fasta \\\n",
    "-f 1.checkm/checkm_bin_summary.txt \\\n",
    "/path/to/assembled/genome/files/ \\\n",
    "1.checkm/\n"
   ]
  },
  {
   "cell_type": "markdown",
   "metadata": {},
   "source": [
    "## 2 Taxonomy prediction via *gtdb*\n",
    "\n",
    "Generate taxonomy predictions for each isolate via *gtdbtk_202*"
   ]
  },
  {
   "cell_type": "code",
   "execution_count": null,
   "metadata": {},
   "outputs": [],
   "source": [
    "#!/bin/bash\n",
    "#SBATCH -A your_project_account\n",
    "#SBATCH -J 3_isolate_genomes_gtdb\n",
    "#SBATCH --time 02:00:00\n",
    "#SBATCH --ntasks=1\n",
    "#SBATCH --mem 260GB\n",
    "#SBATCH --cpus-per-task=20\n",
    "#SBATCH -e 3_isolate_genomes_gtdb.err\n",
    "#SBATCH -o 3_isolate_genomes_gtdb.out\n",
    "\n",
    "# Working directory\n",
    "cd /working/dir\n",
    "mkdir -p 2.gtdbtk\n",
    "\n",
    "# load module\n",
    "module purge\n",
    "module load GTDB-Tk/1.5.0-gimkl-2020a-Python-3.8.2\n",
    "\n",
    "# Set the path to the reference data for the latest available gtdbtk (in case this isn't default for the loaded module)\n",
    "export GTDBTK_DATA_PATH=/opt/nesi/db/gtdbtk_202/\n",
    "\n",
    "# Run gtdb-tk\n",
    "gtdbtk classify_wf --cpus 20 \\\n",
    "-x fasta \\\n",
    "--genome_dir /path/to/assembled/genome/files/ \\\n",
    "--out_dir 2.gtdbtk\n",
    "\n"
   ]
  },
  {
   "cell_type": "markdown",
   "metadata": {},
   "source": [
    "## 3 Summary table of genome stats and taxonomy\n",
    "\n",
    "Generate summary table of *checkM* results and *gtdb* taxonomy predictions. \n"
   ]
  },
  {
   "cell_type": "code",
   "execution_count": null,
   "metadata": {},
   "outputs": [],
   "source": [
    "# Working directory\n",
    "cd /working/dir\n",
    "\n",
    "# Load python\n",
    "module purge\n",
    "module load Python/3.8.2-gimkl-2020a\n",
    "python3\n",
    "\n",
    "## Import required libraries\n",
    "import pandas as pd\n",
    "import numpy as np\n",
    "import re\n",
    "import glob\n",
    "\n",
    "## Compile results\n",
    "\n",
    "# checkm\n",
    "checkm_df = pd.read_csv('1.checkm/checkm_bin_summary.txt', sep='\\t')[['Bin Id', 'Completeness', 'Contamination', 'Strain heterogeneity']].rename({'Bin Id': 'genomeID'}, axis=1)\n",
    "# taxonomy\n",
    "gtdb_df = pd.concat([pd.read_csv(f, sep='\\t') for f in glob.glob(\"2.gtdbtk/*.summary.tsv\")],\n",
    "                      ignore_index=True)[['user_genome', 'classification']]\n",
    "gtdb_df.columns = ['genomeID', 'taxonomy_gtdb']\n",
    "\n",
    "# Compile into one table\n",
    "summary_df = pd.merge(checkm_df, gtdb_df, how=\"outer\", on=\"genomeID\")\n",
    "\n",
    "# Write out summary table\n",
    "summary_df.to_csv('summary_table_checkm_gtdb.tsv', sep='\\t', index=False)\n",
    "\n",
    "quit()\n"
   ]
  },
  {
   "cell_type": "markdown",
   "metadata": {},
   "source": [
    "***"
   ]
  }
 ],
 "metadata": {
  "kernelspec": {
   "display_name": "Python 3 (ipykernel)",
   "language": "python",
   "name": "python3"
  },
  "language_info": {
   "codemirror_mode": {
    "name": "ipython",
    "version": 3
   },
   "file_extension": ".py",
   "mimetype": "text/x-python",
   "name": "python",
   "nbconvert_exporter": "python",
   "pygments_lexer": "ipython3",
   "version": "3.9.12"
  }
 },
 "nbformat": 4,
 "nbformat_minor": 4
}
