{
 "cells": [
  {
   "cell_type": "markdown",
   "metadata": {},
   "source": [
    "# Prokaryote genomics: Gene Calling and Annotation\n"
   ]
  },
  {
   "cell_type": "markdown",
   "metadata": {},
   "source": [
    "***"
   ]
  },
  {
   "cell_type": "markdown",
   "metadata": {},
   "source": [
    "## Introduction\n",
    "\n",
    "We can now predict genes and the annotations of those genes for each of our assembled genomes.\n",
    "\n",
    "NOTE: This process is comparable whether working with assembled genomes generated from either:\n",
    "\n",
    "- culture isolate sequencing (c.f. `Data_processing_and_assembly/1C.Prokaryote_isolate_sequencing_Nanopore/`) \n",
    "- genomes recovered from mixed metagenome assemblies (metagenome-assembled genomes (MAGs)) (c.f. `Data_processing_and_assembly/1A.Metagenomics_HiSeq/` and `2.Prokaryote_metagenomics_Binning/`)"
   ]
  },
  {
   "cell_type": "markdown",
   "metadata": {},
   "source": [
    "## Index\n",
    "\n",
    "- [Gene calling and Annotation](#Gene-Calling-and-Annotation)"
   ]
  },
  {
   "cell_type": "markdown",
   "metadata": {},
   "source": [
    "## Gene Calling and Annotation\n",
    "\n",
    "#### Preamble\n",
    "\n",
    "*prodigal* is a commonly used tool for calling genes. This can also be combined with other tools to call, for example, rRNA (*metaxa2*) and tRNA (*aragorn*). Identified genes can then be searched against a suite of gene annotation databases, such as *KEGG*, *UniProt*, *UniRef*, *pfam*, *tigrfam*, etc. to generate predicted annotations for each gene (e.g. searches via *blast*, *usearch*, *diamond*, or *hmmsearch*). Finally, these can be compiled to generate a single user friendly table of all annotation predictions (by each of the databases searched against) for each called gene.\n",
    "\n",
    "*DRAM* is a convenient annotation tool that completes each of the above steps for a set of common annotation databases and compiles a user friendly output table of predicted gene annotations. In the example below, we will run gene calling and annotation via *DRAM*, which is installed as a NeSI module.\n",
    "\n",
    "For more information on *DRAM*, see here: https://github.com/WrightonLabCSU/DRAM\n",
    "\n",
    "NOTE:\n",
    "\n",
    "- *DRAM* comes installed with a number of freely available databases that it searches against. The full *KEGG* database, however, requires a paid licence, and is not available as part of the NeSI module. Unfortunately the *DRAM* version 1.3 (e.g. NeSI module `DRAM/1.3.5-Miniconda3`) cannot be set to include the full *KEGG* database, even if you have a full *KEGG* licence in your group (as the config file pointing to database locations is a fixed setting in DRAM < v1.4). However, future versions of *DRAM* (from v1.4) are reportedly going to include an extra option to set your own config file (including options to copy the current config file to retrieve the NeSI paths to the rest of the available databases, which can then be modified to include your own database (e.g. the full *KEGG* database)). (*DRAM_1.4* includes several major updates, so will hopefully be upgraded in NeSI in the near future).\n"
   ]
  },
  {
   "cell_type": "markdown",
   "metadata": {},
   "source": [
    "#### Gene prediction and annotation via *DRAM*\n",
    "\n",
    "NOTE:\n",
    "\n",
    "- The example below runs DRAM separately (in a slurm array) for *each* assembled genome and then merges the results via *compile_dram_annotations.py*. Alternatively, you could concatenate all genomes together and run at once if it is not an especially large dataset.\n",
    "  - You may want to ensure that contig headers in each of your assembled genome files include the individual genomeID *prior* to running this annotation step (or at least having a contig2genome_lookupTable file prepared to be able to link gene annotations from specific contigs back to individual genomes).\n",
    "- In case the assembled genome files are not labelled based on a sequential set of IDs, to run as a slurm array in this example we will:\n",
    "  - run a slurm array for the total number of final assembled genome files (in this example, 10 genomes, so `#SBATCH --array=0-9`)\n",
    "  - generate an array of all assembled genome file names (`GENOME_FILES_ARRAY`)\n",
    "    - NOTE: if the file extensions of your assembled genome files end in something other than .fasta, ammend the `GENOME_FILES_ARRAY` and `OUTPUT_FILE` lines accordingly.\n",
    "  - extract an individual file name from this array based on the `SLURM_ARRAY_TASK_ID`\n",
    "  - use this individual file name for input and output names\n"
   ]
  },
  {
   "cell_type": "code",
   "execution_count": null,
   "metadata": {},
   "outputs": [],
   "source": [
    "#!/bin/bash\n",
    "#SBATCH -A your_project_account\n",
    "#SBATCH -J gene_annotation_DRAM\n",
    "#SBATCH --time 2-00:00:00\n",
    "#SBATCH --mem 100GB\n",
    "#SBATCH --ntasks=1\n",
    "#SBATCH --array=0-9\n",
    "#SBATCH --cpus-per-task=36\n",
    "#SBATCH -e gene_annotation_DRAM_%a.err\n",
    "#SBATCH -o gene_annotation_DRAM_%a.out\n",
    "\n",
    "# Working directory\n",
    "cd /working/dir\n",
    "mkdir -p 3.gene_annotations/dram_annotation/subsets\n",
    "\n",
    "# Load module \n",
    "module purge\n",
    "module load DRAM/1.3.5-Miniconda3\n",
    "\n",
    "# array of assembly files\n",
    "GENOME_FILES_ARRAY=(/path/to/assembled/genome/files/*.fasta)                    \n",
    "# Set variables\n",
    "GENOME_FILE=$(echo ${GENOME_FILES_ARRAY[${SLURM_ARRAY_TASK_ID}]})\n",
    "OUTPUT_FILE=$(basename ${GENOME_FILE} .fasta)\n",
    "\n",
    "## Run DRAM\n",
    "# n.b. can add --gtdb_taxonomy twice *if* there's also an ar122 summary file available\n",
    "# For DRAM_1.4 you can manaully set config file (e.g. to include KEGG path): --config_loc /path/to/DRAM_1.4_CONFIG_EDITED\n",
    "DRAM.py annotate --threads 36 --use_uniref \\\n",
    "--input_fasta ${GENOME_FILE} \\\n",
    "--checkm_quality 1.checkm/checkm_bin_summary.txt \\\n",
    "--gtdb_taxonomy 2.gtdbtk/gtdbtk.bac120.summary.tsv \\\n",
    "-o 3.gene_annotations/dram_annotation/subsets/${OUTPUT_FILE}\n"
   ]
  },
  {
   "cell_type": "markdown",
   "metadata": {},
   "source": [
    "#### Merge *DRAM* annotations via *compile_dram_annotations.py*\n",
    "\n",
    "The script `compile_dram_annotations.py` was written to recompile subsets of DRAM outputs, while allowing for cases where some results files were not generated (e.g. no tRNAs were identified for a given subset). It takes as input the directory path that contains each of the *DRAM* subsets outputs. This script is available in `../scripts/`."
   ]
  },
  {
   "cell_type": "code",
   "execution_count": null,
   "metadata": {},
   "outputs": [],
   "source": [
    "# Working directory\n",
    "cd /working/dir/3.gene_annotations\n",
    "\n",
    "# Load python\n",
    "module purge\n",
    "module load Python/3.8.2-gimkl-2020a\n",
    "\n",
    "# Run compile dram annotations\n",
    "/path/to/scripts/compile_dram_annotations.py \\\n",
    "-i dram_annotation/subsets/ \\\n",
    "-o dram_annotation/collated_dram_\n"
   ]
  },
  {
   "cell_type": "markdown",
   "metadata": {},
   "source": [
    "#### *DRAM* distill\n",
    "\n",
    "`DRAM.py distill` can be used to generate summaries of annotations and some metabolic pathways.\n",
    "\n",
    "For more information, see here: https://github.com/WrightonLabCSU/DRAM\n"
   ]
  },
  {
   "cell_type": "code",
   "execution_count": null,
   "metadata": {},
   "outputs": [],
   "source": [
    "# Working directory\n",
    "cd /working/dir/3.gene_annotations\n",
    "\n",
    "# Load modules\n",
    "module purge\n",
    "module load DRAM/1.3.5-Miniconda3\n",
    "\n",
    "# Run DRAM\n",
    "DRAM.py distill \\\n",
    "-i dram_annotation/collated_dramv_annotations.tsv \\\n",
    "-o dram_distillation\n"
   ]
  },
  {
   "cell_type": "markdown",
   "metadata": {},
   "source": [
    "***"
   ]
  }
 ],
 "metadata": {
  "kernelspec": {
   "display_name": "Python 3 (ipykernel)",
   "language": "python",
   "name": "python3"
  },
  "language_info": {
   "codemirror_mode": {
    "name": "ipython",
    "version": 3
   },
   "file_extension": ".py",
   "mimetype": "text/x-python",
   "name": "python",
   "nbconvert_exporter": "python",
   "pygments_lexer": "ipython3",
   "version": "3.9.12"
  }
 },
 "nbformat": 4,
 "nbformat_minor": 4
}
