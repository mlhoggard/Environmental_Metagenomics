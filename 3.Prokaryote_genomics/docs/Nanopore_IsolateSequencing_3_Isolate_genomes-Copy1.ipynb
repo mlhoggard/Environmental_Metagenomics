{
 "cells": [
  {
   "cell_type": "markdown",
   "metadata": {},
   "source": [
    "# Prokaryote genomics: Genome stats\n"
   ]
  },
  {
   "cell_type": "markdown",
   "metadata": {},
   "source": [
    "***"
   ]
  },
  {
   "cell_type": "markdown",
   "metadata": {},
   "source": [
    "## Introduction\n",
    "\n",
    "Generate genome stats, taxonomy predictions, and gene annotation predictions for assembled isolate genomes or metagenome-assembled genomes (MAGs)\n",
    "\n",
    "NOTE: This process is comparable whether working with assembled genomes generated from either:\n",
    "\n",
    "- culture isolate sequencing (c.f. `Data_processing_and_assembly/1C.Prokaryote_isolate_sequencing_Nanopore/`) \n",
    "- genomes recovered from mixed metagenome assemblies (metagenome-assembled genomes (MAGs)) (c.f. `Data_processing_and_assembly/1A.Metagenomics_HiSeq/` and `2.Prokaryote_metagenomics_Binning/`)"
   ]
  },
  {
   "cell_type": "markdown",
   "metadata": {},
   "source": [
    "## Index\n",
    "\n",
    "- [3.1 Genome stats](#3.1-Genome-stats-via-checkM)\n",
    "- [3.2 Taxonomy](#3.2-Taxonomy-prediction-via-gtdb)\n",
    "- [3.3 Summary table of genome stats and taxonomy](#3.3-Summary-table-of-genome-stats-and-taxonomy)\n",
    "- [3.4 Gene calling and annotation](#3.4-Gene-Calling-and-Annotation)\n"
   ]
  },
  {
   "cell_type": "markdown",
   "metadata": {},
   "source": [
    "## 3.1 Genome stats via *checkM*\n",
    "\n",
    "Run *checkM* on the assembled genomes to generate genome statistics. (See the metagenomics processing pipeline for more information)."
   ]
  },
  {
   "cell_type": "code",
   "execution_count": null,
   "metadata": {},
   "outputs": [],
   "source": [
    "#!/bin/bash\n",
    "#SBATCH -A your_project_account\n",
    "#SBATCH -J 3_isolate_genomes_checkm\n",
    "#SBATCH --time 00:40:00\n",
    "#SBATCH --ntasks=1\n",
    "#SBATCH --mem 45GB\n",
    "#SBATCH --cpus-per-task=20\n",
    "#SBATCH -e 3_isolate_genomes_checkm.err\n",
    "#SBATCH -o 3_isolate_genomes_checkm.out\n",
    "\n",
    "# Working directory\n",
    "cd /working/dir\n",
    "mkdir -p 3.isolate_genomes/1.checkm/\n",
    "\n",
    "# load CheckM\n",
    "module purge\n",
    "module load CheckM/1.0.13-gimkl-2018b-Python-2.7.16\n",
    "\n",
    "# Run CheckM\n",
    "checkm lineage_wf -t 20 --pplacer_threads 10 --tab_table \\\n",
    "-x fasta \\\n",
    "-f 2.isolate_genomes/1.checkm/checkm_bin_summary.txt \\\n",
    "1.assembly/2.assembly.flye.nano_hq.LR_polished/polished_assembly_files/ \\\n",
    "2.isolate_genomes/1.checkm/\n"
   ]
  },
  {
   "cell_type": "markdown",
   "metadata": {},
   "source": [
    "## 3.2 Taxonomy prediction via *gtdb*\n",
    "\n",
    "Generate taxonomy predictions for each isolate via *gtdbtk_202*. (See the metagenomics processing pipeline for more information)."
   ]
  },
  {
   "cell_type": "code",
   "execution_count": null,
   "metadata": {},
   "outputs": [],
   "source": [
    "#!/bin/bash\n",
    "#SBATCH -A your_project_account\n",
    "#SBATCH -J 3_isolate_genomes_gtdb\n",
    "#SBATCH --time 02:00:00\n",
    "#SBATCH --ntasks=1\n",
    "#SBATCH --mem 260GB\n",
    "#SBATCH --cpus-per-task=20\n",
    "#SBATCH -e 3_isolate_genomes_gtdb.err\n",
    "#SBATCH -o 3_isolate_genomes_gtdb.out\n",
    "\n",
    "# Working directory\n",
    "cd /working/dir\n",
    "mkdir -p 2.isolate_genomes/2.gtdbtk\n",
    "\n",
    "# load module\n",
    "module purge\n",
    "module load GTDB-Tk/1.5.0-gimkl-2020a-Python-3.8.2\n",
    "\n",
    "# Set the path to the reference data for the latest available gtdbtk (in case this isn't default for the loaded module)\n",
    "export GTDBTK_DATA_PATH=/opt/nesi/db/gtdbtk_202/\n",
    "\n",
    "# Run gtdb-tk\n",
    "gtdbtk classify_wf --cpus 20 \\\n",
    "-x fasta \\\n",
    "--genome_dir 1.assembly/2.assembly.flye.nano_hq.LR_polished/polished_assembly_files/ \\\n",
    "--out_dir 2.isolate_genomes/2.gtdbtk\n",
    "\n"
   ]
  },
  {
   "cell_type": "markdown",
   "metadata": {},
   "source": [
    "## 3.3 Summary table of genome stats and taxonomy\n",
    "\n",
    "Generate summary table of *checkM* results and *gtdb* taxonomy predictions. \n",
    "\n",
    "In this example, we will also incorporate the previously generated summary table of polished assembly stats"
   ]
  },
  {
   "cell_type": "code",
   "execution_count": null,
   "metadata": {},
   "outputs": [],
   "source": [
    "# Working directory\n",
    "cd /working/dir\n",
    "\n",
    "# Load python\n",
    "module purge\n",
    "module load Python/3.8.2-gimkl-2020a\n",
    "python3\n",
    "\n",
    "## Import required libraries\n",
    "import pandas as pd\n",
    "import numpy as np\n",
    "import re\n",
    "import glob\n",
    "\n",
    "## Compile results\n",
    "\n",
    "# polished assembly stats\n",
    "assembly_stats_df = pd.read_csv('1.assembly/2.assembly.flye.nano_hq.LR_polished/polished_assembly_stats/summary_table_LRpolished_assembly_stats.tsv', sep='\\t')\n",
    "# checkm\n",
    "checkm_df = pd.read_csv('2.isolate_genomes/1.checkm/checkm_bin_summary.txt', sep='\\t')[['Bin Id', 'Completeness', 'Contamination', 'Strain heterogeneity']].rename({'Bin Id': 'sampleID'}, axis=1)\n",
    "# taxonomy\n",
    "gtdb_df = pd.concat([pd.read_csv(f, sep='\\t') for f in glob.glob(\"2.isolate_genomes/2.gtdbtk/*.summary.tsv\")],\n",
    "                      ignore_index=True)[['user_genome', 'classification']]\n",
    "gtdb_df.columns = ['isolateID', 'taxonomy_gtdb']\n",
    "\n",
    "# Strip '.consensus' off sampleIDs for merging\n",
    "checkm_df['isolateID'] = checkm_df['isolateID'].str.replace(r'.consensus', '')\n",
    "gtdb_df['isolateID'] = gtdb_df['isolateID'].str.replace(r'.consensus', '')\n",
    "\n",
    "# Compile into one table\n",
    "summary_df = pd.merge(assembly_stats_df, checkm_df, how=\"outer\", on=\"sampleID\").merge(gtdb_df, how=\"outer\", on=\"sampleID\")\n",
    "\n",
    "# Write out summary table\n",
    "summary_df.to_csv('2.isolate_genomes/summary_table_checkm_gtdb.tsv', sep='\\t', index=False)\n",
    "\n",
    "quit()\n"
   ]
  },
  {
   "cell_type": "markdown",
   "metadata": {},
   "source": [
    "## 3.4 Gene Calling and Annotation\n",
    "\n",
    "#### Introduction\n",
    "\n",
    "As per the metagenomics processing pipeline, we can now predict genes and the annotations of those genes for each of our assembled isolate genomes.\n",
    "\n",
    "*prodigal* is a commonly used tool for calling genes. This can also be combined with other tools to call, for example, rRNA (*metaxa2*) and tRNA (*aragorn*). Identified genes can then be searched against a suite of gene annotation databases, such as *KEGG*, *UniProt*, *UniRef*, *pfam*, *tigrfam*, etc. to generate predicted annotations for each gene (e.g. searches via *blast*, *usearch*, *diamond*, or *hmmsearch*). Finally, these can be compiled to generate a single user friendly table of all annotation predictions (by each of the databases searched against) for each called gene.\n",
    "\n",
    "*DRAM* is a convenient annotation tool that completes each of the above steps for a set of common annotation databases and compiles a user friendly output table of predicted gene annotations. In the example below, we will run gene calling and annotation via *DRAM*, which is installed as a NeSI module.\n",
    "\n",
    "For more information on *DRAM*, see here: https://github.com/WrightonLabCSU/DRAM\n",
    "\n",
    "NOTE:\n",
    "\n",
    "- *DRAM* comes installed with a number of freely available databases that it searches against. The full *KEGG* database, however, requires a paid licence, and is not available as part of the NeSI module. Unfortunately the *DRAM* version 1.3 (e.g. NeSI module `DRAM/1.3.5-Miniconda3`) cannot be set to include the full *KEGG* database, even if you have a full *KEGG* licence in your group (as the config file pointing to database locations is a fixed setting in DRAM < v1.4). However, future versions of *DRAM* (from v1.4) are reportedly going to include an extra option to set your own config file (including options to copy the current config file to retrieve the NeSI paths to the rest of the available databases, which can then be modified to include your own database (e.g. the full *KEGG* database)). (*DRAM_1.4* includes several major updates, so will hopefully be upgraded in NeSI in the near future).\n"
   ]
  },
  {
   "cell_type": "markdown",
   "metadata": {},
   "source": [
    "#### Gene prediction and annotation via *DRAM*\n",
    "\n",
    "NOTE:\n",
    "\n",
    "- We no longer have the full sequential set of isolateIDs (due to isolate_2 and isolate_7 failing to assemble). Previously, we have simply listed the exact isolateID numbers in the `#SBATCH --array=` line. As an alternative, here we will:\n",
    "  - run a slurm array for the total number of final assemblies (here, 12-2=10, so `--array=0-9`)\n",
    "  - generate an array of all assembly file names (`ASSEMBLY_FILES_ARRAY`)\n",
    "  - extract an individual file name from this array based on the `SLURM_ARRAY_TASK_ID`\n",
    "  - use this individual file name for input and output names\n"
   ]
  },
  {
   "cell_type": "code",
   "execution_count": null,
   "metadata": {},
   "outputs": [],
   "source": [
    "#!/bin/bash\n",
    "#SBATCH -A your_project_account\n",
    "#SBATCH -J 3_isolate_genomes_DRAM\n",
    "#SBATCH --time 2-00:00:00\n",
    "#SBATCH --mem 100GB\n",
    "#SBATCH --ntasks=1\n",
    "#SBATCH --array=0-9\n",
    "#SBATCH --cpus-per-task=36\n",
    "#SBATCH -e 3_isolate_genomes_DRAM_%a.err\n",
    "#SBATCH -o 3_isolate_genomes_DRAM_%a.out\n",
    "\n",
    "# Working directory\n",
    "cd /working/dir\n",
    "mkdir -p 2.isolate_genomes/3.annotations_DRAM/dram_annotation/isolate_subsets\n",
    "\n",
    "# Load module \n",
    "module purge\n",
    "module load DRAM/1.3.5-Miniconda3\n",
    "\n",
    "# array of assembly files\n",
    "ASSEMBLY_FILES_ARRAY=(1.assembly/2.assembly.flye.nano_hq.LR_polished/polished_assembly_files/*.fasta)                    \n",
    "# Set variables\n",
    "ASSEMBLY_FILE=$(echo ${ASSEMBLY_FILES_ARRAY[${SLURM_ARRAY_TASK_ID}]})\n",
    "OUTPUT_FILE=$(basename ${ASSEMBLY_FILE} .consensus.fasta)\n",
    "\n",
    "## Run DRAM\n",
    "# n.b. can add --gtdb_taxonomy twice *if* there's also an ar122 summary file available\n",
    "# For DRAM_1.4 you can manaully set config file (e.g. to include KEGG path): --config_loc /path/to/DRAM_1.4_CONFIG_EDITED\n",
    "DRAM.py annotate --threads 36 --use_uniref \\\n",
    "--input_fasta ${ASSEMBLY_FILE} \\\n",
    "--checkm_quality ./2.isolate_genomes/1.checkm/checkm_bin_summary.txt \\\n",
    "--gtdb_taxonomy ./2.isolate_genomes/2.gtdbtk/gtdbtk.bac120.summary.tsv \\\n",
    "-o 2.isolate_genomes/3.annotations_DRAM/dram_annotation/isolate_subsets/${OUTPUT_FILE}\n"
   ]
  },
  {
   "cell_type": "markdown",
   "metadata": {},
   "source": [
    "#### Merge *DRAM* annotations via *compile_dram_annotations.py*\n",
    "\n",
    "The script `compile_dram_annotations.py` was written to recompile subsets of DRAM outputs, while allowing for cases where some results files were not generated (e.g. no tRNAs were identified for a given subset). It takes as input the directory path that contains each of the *DRAM* subsets outputs. This script is available in `../scripts/`."
   ]
  },
  {
   "cell_type": "code",
   "execution_count": null,
   "metadata": {},
   "outputs": [],
   "source": [
    "# Working directory\n",
    "cd /working/dir/2.isolate_genomes/3.annotations_DRAM\n",
    "\n",
    "# Load python\n",
    "module purge\n",
    "module load Python/3.8.2-gimkl-2020a\n",
    "\n",
    "# Run compile dram annotations\n",
    "/path/to/scripts/compile_dram_annotations.py \\\n",
    "-i dram_annotation/isolate_subsets/ \\\n",
    "-o dram_annotation/collated_dram_\n"
   ]
  },
  {
   "cell_type": "markdown",
   "metadata": {},
   "source": [
    "#### *DRAM* distill\n",
    "\n",
    "`DRAM.py distill` can be used to generate summaries of annotations and some metabolic pathways.\n",
    "\n",
    "For more information, see here: https://github.com/WrightonLabCSU/DRAM\n"
   ]
  },
  {
   "cell_type": "code",
   "execution_count": null,
   "metadata": {},
   "outputs": [],
   "source": [
    "# Working directory\n",
    "cd /working/dir/2.isolate_genomes/3.annotations_DRAM\n",
    "\n",
    "# Load modules\n",
    "module purge\n",
    "module load DRAM/1.3.5-Miniconda3\n",
    "\n",
    "# Run DRAM\n",
    "DRAM.py distill \\\n",
    "-i dram_annotation/collated_dramv_annotations.tsv \\\n",
    "-o dram_distillation\n"
   ]
  },
  {
   "cell_type": "markdown",
   "metadata": {},
   "source": [
    "***"
   ]
  }
 ],
 "metadata": {
  "kernelspec": {
   "display_name": "Python 3 (ipykernel)",
   "language": "python",
   "name": "python3"
  },
  "language_info": {
   "codemirror_mode": {
    "name": "ipython",
    "version": 3
   },
   "file_extension": ".py",
   "mimetype": "text/x-python",
   "name": "python",
   "nbconvert_exporter": "python",
   "pygments_lexer": "ipython3",
   "version": "3.9.12"
  }
 },
 "nbformat": 4,
 "nbformat_minor": 4
}
